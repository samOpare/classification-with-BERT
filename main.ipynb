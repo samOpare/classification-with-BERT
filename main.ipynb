{
 "cells": [
  {
   "cell_type": "markdown",
   "metadata": {},
   "source": [
    "## Classification of Covid 19 tweets to assertain what can be learnt about public knowledge on symptoms, treatment and prevention of the virus"
   ]
  },
  {
   "cell_type": "markdown",
   "metadata": {},
   "source": [
    "this project is an effort to contribute to health surveillance in order to help medical professionals coalate useful information to aid in intervention measures in the situation of an outbreak"
   ]
  },
  {
   "cell_type": "markdown",
   "metadata": {},
   "source": [
    "The objectives of this project are:\n",
    "\n",
    "1. implementation of bert algorithm \n",
    "2. aid in labelling large data\n",
    "3. information gathering\n"
   ]
  },
  {
   "cell_type": "markdown",
   "metadata": {},
   "source": [
    "## Data processing"
   ]
  },
  {
   "cell_type": "markdown",
   "metadata": {},
   "source": [
    "### Processing literature data"
   ]
  },
  {
   "cell_type": "code",
   "execution_count": 1,
   "metadata": {},
   "outputs": [],
   "source": [
    "import pandas as pd\n",
    "import numpy as np"
   ]
  },
  {
   "cell_type": "code",
   "execution_count": 2,
   "metadata": {},
   "outputs": [
    {
     "name": "stderr",
     "output_type": "stream",
     "text": [
      "C:\\Users\\Sammy\\Anaconda3\\lib\\site-packages\\IPython\\core\\interactiveshell.py:2785: DtypeWarning: Columns (4,15) have mixed types. Specify dtype option on import or set low_memory=False.\n",
      "  interactivity=interactivity, compiler=compiler, result=result)\n"
     ]
    }
   ],
   "source": [
    "# load covid literature data\n",
    "covid_literature_df = pd.read_csv('C:/Users/Sammy/2021/final-project/data/metadata.csv', usecols=['title','abstract','authors','doi','publish_time','pdf_json_files'])\n",
    "np.random.seed()\n"
   ]
  },
  {
   "cell_type": "code",
   "execution_count": 3,
   "metadata": {},
   "outputs": [
    {
     "data": {
      "text/html": [
       "<div>\n",
       "<style scoped>\n",
       "    .dataframe tbody tr th:only-of-type {\n",
       "        vertical-align: middle;\n",
       "    }\n",
       "\n",
       "    .dataframe tbody tr th {\n",
       "        vertical-align: top;\n",
       "    }\n",
       "\n",
       "    .dataframe thead th {\n",
       "        text-align: right;\n",
       "    }\n",
       "</style>\n",
       "<table border=\"1\" class=\"dataframe\">\n",
       "  <thead>\n",
       "    <tr style=\"text-align: right;\">\n",
       "      <th></th>\n",
       "      <th>title</th>\n",
       "      <th>doi</th>\n",
       "      <th>abstract</th>\n",
       "      <th>publish_time</th>\n",
       "      <th>authors</th>\n",
       "      <th>pdf_json_files</th>\n",
       "    </tr>\n",
       "  </thead>\n",
       "  <tbody>\n",
       "    <tr>\n",
       "      <th>0</th>\n",
       "      <td>Clinical features of culture-proven Mycoplasma...</td>\n",
       "      <td>10.1186/1471-2334-1-6</td>\n",
       "      <td>OBJECTIVE: This retrospective chart review des...</td>\n",
       "      <td>2001-07-04</td>\n",
       "      <td>Madani, Tariq A; Al-Ghamdi, Aisha A</td>\n",
       "      <td>document_parses/pdf_json/d1aafb70c066a2068b027...</td>\n",
       "    </tr>\n",
       "    <tr>\n",
       "      <th>1</th>\n",
       "      <td>Nitric oxide: a pro-inflammatory mediator in l...</td>\n",
       "      <td>10.1186/rr14</td>\n",
       "      <td>Inflammatory diseases of the respiratory tract...</td>\n",
       "      <td>2000-08-15</td>\n",
       "      <td>Vliet, Albert van der; Eiserich, Jason P; Cros...</td>\n",
       "      <td>document_parses/pdf_json/6b0567729c2143a66d737...</td>\n",
       "    </tr>\n",
       "    <tr>\n",
       "      <th>2</th>\n",
       "      <td>Surfactant protein-D and pulmonary host defense</td>\n",
       "      <td>10.1186/rr19</td>\n",
       "      <td>Surfactant protein-D (SP-D) participates in th...</td>\n",
       "      <td>2000-08-25</td>\n",
       "      <td>Crouch, Erika C</td>\n",
       "      <td>document_parses/pdf_json/06ced00a5fc04215949aa...</td>\n",
       "    </tr>\n",
       "    <tr>\n",
       "      <th>3</th>\n",
       "      <td>Role of endothelin-1 in lung disease</td>\n",
       "      <td>10.1186/rr44</td>\n",
       "      <td>Endothelin-1 (ET-1) is a 21 amino acid peptide...</td>\n",
       "      <td>2001-02-22</td>\n",
       "      <td>Fagan, Karen A; McMurtry, Ivan F; Rodman, David M</td>\n",
       "      <td>document_parses/pdf_json/348055649b6b8cf2b9a37...</td>\n",
       "    </tr>\n",
       "    <tr>\n",
       "      <th>4</th>\n",
       "      <td>Gene expression in epithelial cells in respons...</td>\n",
       "      <td>10.1186/rr61</td>\n",
       "      <td>Respiratory syncytial virus (RSV) and pneumoni...</td>\n",
       "      <td>2001-05-11</td>\n",
       "      <td>Domachowske, Joseph B; Bonville, Cynthia A; Ro...</td>\n",
       "      <td>document_parses/pdf_json/5f48792a5fa08bed9f560...</td>\n",
       "    </tr>\n",
       "  </tbody>\n",
       "</table>\n",
       "</div>"
      ],
      "text/plain": [
       "                                               title                    doi  \\\n",
       "0  Clinical features of culture-proven Mycoplasma...  10.1186/1471-2334-1-6   \n",
       "1  Nitric oxide: a pro-inflammatory mediator in l...           10.1186/rr14   \n",
       "2    Surfactant protein-D and pulmonary host defense           10.1186/rr19   \n",
       "3               Role of endothelin-1 in lung disease           10.1186/rr44   \n",
       "4  Gene expression in epithelial cells in respons...           10.1186/rr61   \n",
       "\n",
       "                                            abstract publish_time  \\\n",
       "0  OBJECTIVE: This retrospective chart review des...   2001-07-04   \n",
       "1  Inflammatory diseases of the respiratory tract...   2000-08-15   \n",
       "2  Surfactant protein-D (SP-D) participates in th...   2000-08-25   \n",
       "3  Endothelin-1 (ET-1) is a 21 amino acid peptide...   2001-02-22   \n",
       "4  Respiratory syncytial virus (RSV) and pneumoni...   2001-05-11   \n",
       "\n",
       "                                             authors  \\\n",
       "0                Madani, Tariq A; Al-Ghamdi, Aisha A   \n",
       "1  Vliet, Albert van der; Eiserich, Jason P; Cros...   \n",
       "2                                    Crouch, Erika C   \n",
       "3  Fagan, Karen A; McMurtry, Ivan F; Rodman, David M   \n",
       "4  Domachowske, Joseph B; Bonville, Cynthia A; Ro...   \n",
       "\n",
       "                                      pdf_json_files  \n",
       "0  document_parses/pdf_json/d1aafb70c066a2068b027...  \n",
       "1  document_parses/pdf_json/6b0567729c2143a66d737...  \n",
       "2  document_parses/pdf_json/06ced00a5fc04215949aa...  \n",
       "3  document_parses/pdf_json/348055649b6b8cf2b9a37...  \n",
       "4  document_parses/pdf_json/5f48792a5fa08bed9f560...  "
      ]
     },
     "execution_count": 3,
     "metadata": {},
     "output_type": "execute_result"
    }
   ],
   "source": [
    "covid_literature_df.head()"
   ]
  },
  {
   "cell_type": "code",
   "execution_count": 4,
   "metadata": {},
   "outputs": [
    {
     "data": {
      "text/plain": [
       "title                216\n",
       "doi               180633\n",
       "abstract          115815\n",
       "publish_time         220\n",
       "authors            12283\n",
       "pdf_json_files    274650\n",
       "dtype: int64"
      ]
     },
     "execution_count": 4,
     "metadata": {},
     "output_type": "execute_result"
    }
   ],
   "source": [
    "#missing values\n",
    "missing_values = covid_literature_df.isnull().sum()\n",
    "missing_values"
   ]
  },
  {
   "cell_type": "code",
   "execution_count": 5,
   "metadata": {},
   "outputs": [
    {
     "name": "stdout",
     "output_type": "stream",
     "text": [
      "23.501964478366585\n"
     ]
    }
   ],
   "source": [
    "#percentage of missing data\n",
    "all_cells = np.product(covid_literature_df.shape)\n",
    "all_missing = missing_values.sum()\n",
    "percentage_missing = (all_missing/all_cells)*100\n",
    "print(percentage_missing)"
   ]
  },
  {
   "cell_type": "code",
   "execution_count": 6,
   "metadata": {},
   "outputs": [],
   "source": [
    "#drop duplicates and fill missing values\n",
    "covid_literature_df.duplicated()\n",
    "covid_literature_df.drop_duplicates(keep='first', inplace=True)\n",
    "covid_literature_df.fillna('no text available', inplace = True)"
   ]
  },
  {
   "cell_type": "code",
   "execution_count": 7,
   "metadata": {},
   "outputs": [],
   "source": [
    "covid_literature_df['abstract'] = (covid_literature_df['title']+ ' ' + covid_literature_df['abstract']).apply(lambda row: row.strip())"
   ]
  },
  {
   "cell_type": "code",
   "execution_count": 8,
   "metadata": {},
   "outputs": [],
   "source": [
    "covid_literature_df['abstract'] = covid_literature_df['abstract'].apply(lambda row: row.replace('no text available',''))"
   ]
  },
  {
   "cell_type": "code",
   "execution_count": 9,
   "metadata": {},
   "outputs": [
    {
     "name": "stdout",
     "output_type": "stream",
     "text": [
      "(70814, 6)\n"
     ]
    },
    {
     "data": {
      "text/html": [
       "<div>\n",
       "<style scoped>\n",
       "    .dataframe tbody tr th:only-of-type {\n",
       "        vertical-align: middle;\n",
       "    }\n",
       "\n",
       "    .dataframe tbody tr th {\n",
       "        vertical-align: top;\n",
       "    }\n",
       "\n",
       "    .dataframe thead th {\n",
       "        text-align: right;\n",
       "    }\n",
       "</style>\n",
       "<table border=\"1\" class=\"dataframe\">\n",
       "  <thead>\n",
       "    <tr style=\"text-align: right;\">\n",
       "      <th></th>\n",
       "      <th>title</th>\n",
       "      <th>doi</th>\n",
       "      <th>abstract</th>\n",
       "      <th>publish_time</th>\n",
       "      <th>authors</th>\n",
       "      <th>pdf_json_files</th>\n",
       "    </tr>\n",
       "  </thead>\n",
       "  <tbody>\n",
       "    <tr>\n",
       "      <th>524</th>\n",
       "      <td>Genomic Signatures of Strain Selection and Enh...</td>\n",
       "      <td>10.1371/journal.pone.0017836</td>\n",
       "      <td>Genomic Signatures of Strain Selection and Enh...</td>\n",
       "      <td>2011-03-25</td>\n",
       "      <td>Gibbons, Henry S.; Broomall, Stacey M.; McNew,...</td>\n",
       "      <td>document_parses/pdf_json/6cc30d377f0bd9004378e...</td>\n",
       "    </tr>\n",
       "    <tr>\n",
       "      <th>549</th>\n",
       "      <td>The Multifaceted Poliovirus 2A Protease: Regul...</td>\n",
       "      <td>10.1155/2011/369648</td>\n",
       "      <td>The Multifaceted Poliovirus 2A Protease: Regul...</td>\n",
       "      <td>2011-04-14</td>\n",
       "      <td>Castelló, Alfredo; Álvarez, Enrique; Carrasco,...</td>\n",
       "      <td>document_parses/pdf_json/5bff40b0df656057c9db8...</td>\n",
       "    </tr>\n",
       "    <tr>\n",
       "      <th>621</th>\n",
       "      <td>Dominating Biological Networks</td>\n",
       "      <td>10.1371/journal.pone.0023016</td>\n",
       "      <td>Dominating Biological Networks Proteins are es...</td>\n",
       "      <td>2011-08-26</td>\n",
       "      <td>Milenković, Tijana; Memišević, Vesna; Bonato, ...</td>\n",
       "      <td>document_parses/pdf_json/d0acac75cb3d2c19abfe0...</td>\n",
       "    </tr>\n",
       "    <tr>\n",
       "      <th>784</th>\n",
       "      <td>Both TLR2 and TRIF Contribute to Interferon-β ...</td>\n",
       "      <td>10.1371/journal.pone.0033299</td>\n",
       "      <td>Both TLR2 and TRIF Contribute to Interferon-β ...</td>\n",
       "      <td>2012-03-14</td>\n",
       "      <td>Aubry, Camille; Corr, Sinéad C.; Wienerroither...</td>\n",
       "      <td>document_parses/pdf_json/2305cbae32a50cf992335...</td>\n",
       "    </tr>\n",
       "    <tr>\n",
       "      <th>884</th>\n",
       "      <td>Proteasome-Dependent Disruption of the E3 Ubiq...</td>\n",
       "      <td>10.1371/journal.ppat.1002789</td>\n",
       "      <td>Proteasome-Dependent Disruption of the E3 Ubiq...</td>\n",
       "      <td>2012-07-05</td>\n",
       "      <td>Fehr, Anthony R.; Gualberto, Nathaniel C.; Sav...</td>\n",
       "      <td>document_parses/pdf_json/5ae7223cc6ab3437ba262...</td>\n",
       "    </tr>\n",
       "  </tbody>\n",
       "</table>\n",
       "</div>"
      ],
      "text/plain": [
       "                                                 title  \\\n",
       "524  Genomic Signatures of Strain Selection and Enh...   \n",
       "549  The Multifaceted Poliovirus 2A Protease: Regul...   \n",
       "621                     Dominating Biological Networks   \n",
       "784  Both TLR2 and TRIF Contribute to Interferon-β ...   \n",
       "884  Proteasome-Dependent Disruption of the E3 Ubiq...   \n",
       "\n",
       "                              doi  \\\n",
       "524  10.1371/journal.pone.0017836   \n",
       "549           10.1155/2011/369648   \n",
       "621  10.1371/journal.pone.0023016   \n",
       "784  10.1371/journal.pone.0033299   \n",
       "884  10.1371/journal.ppat.1002789   \n",
       "\n",
       "                                              abstract publish_time  \\\n",
       "524  Genomic Signatures of Strain Selection and Enh...   2011-03-25   \n",
       "549  The Multifaceted Poliovirus 2A Protease: Regul...   2011-04-14   \n",
       "621  Dominating Biological Networks Proteins are es...   2011-08-26   \n",
       "784  Both TLR2 and TRIF Contribute to Interferon-β ...   2012-03-14   \n",
       "884  Proteasome-Dependent Disruption of the E3 Ubiq...   2012-07-05   \n",
       "\n",
       "                                               authors  \\\n",
       "524  Gibbons, Henry S.; Broomall, Stacey M.; McNew,...   \n",
       "549  Castelló, Alfredo; Álvarez, Enrique; Carrasco,...   \n",
       "621  Milenković, Tijana; Memišević, Vesna; Bonato, ...   \n",
       "784  Aubry, Camille; Corr, Sinéad C.; Wienerroither...   \n",
       "884  Fehr, Anthony R.; Gualberto, Nathaniel C.; Sav...   \n",
       "\n",
       "                                        pdf_json_files  \n",
       "524  document_parses/pdf_json/6cc30d377f0bd9004378e...  \n",
       "549  document_parses/pdf_json/5bff40b0df656057c9db8...  \n",
       "621  document_parses/pdf_json/d0acac75cb3d2c19abfe0...  \n",
       "784  document_parses/pdf_json/2305cbae32a50cf992335...  \n",
       "884  document_parses/pdf_json/5ae7223cc6ab3437ba262...  "
      ]
     },
     "execution_count": 9,
     "metadata": {},
     "output_type": "execute_result"
    }
   ],
   "source": [
    "#reduce the dataset to literature discussing covid specific topics\n",
    "def find_covid_lit(df):\n",
    "    df1 = df[df['abstract'].str.contains('ncov')]\n",
    "    df2 = df[df['abstract'].str.contains('corona')]\n",
    "    df3 = df[df['abstract'].str.contains('covid')]\n",
    "    df4 = df[df['abstract'].str.contains('-cov-2')]\n",
    "    df5 = df[df['abstract'].str.contains('cov2')]\n",
    "    \n",
    "    \n",
    "    data =[df1,df2,df3,df4,df5]\n",
    "    df = pd.concat(data)\n",
    "    df=df.drop_duplicates(subset='title', keep=\"first\")\n",
    "    return df\n",
    "    \n",
    "df=find_covid_lit(covid_literature_df)\n",
    "print (df.shape)\n",
    "df.head()   "
   ]
  },
  {
   "cell_type": "markdown",
   "metadata": {},
   "source": [
    "### labeling the literature data based on terms in the abstract"
   ]
  },
  {
   "cell_type": "code",
   "execution_count": 10,
   "metadata": {},
   "outputs": [
    {
     "name": "stderr",
     "output_type": "stream",
     "text": [
      "C:\\Users\\Sammy\\Anaconda3\\lib\\site-packages\\smart_open\\ssh.py:34: UserWarning: paramiko missing, opening SSH/SCP/SFTP paths will be disabled.  `pip install paramiko` to suppress\n",
      "  warnings.warn('paramiko missing, opening SSH/SCP/SFTP paths will be disabled.  `pip install paramiko` to suppress')\n"
     ]
    }
   ],
   "source": [
    "import functools\n",
    "from nltk import PorterStemmer\n",
    "from gensim.parsing.preprocessing import remove_stopwords\n",
    "\n",
    "# converts terms to morphological root eg. smoked and smoking to smok\n",
    "def stemmer(words):\n",
    "    stemmer = PorterStemmer()\n",
    "    tokens=[]\n",
    "    for w in words:\n",
    "        tokens.append(stemmer.stem(w))\n",
    "    return tokens\n",
    "\n",
    "\n",
    "def get_sentences(df1,search_terms,str1):\n",
    "    df_table = pd.DataFrame(columns = [\"pub_date\",\"authors\",\"title\",\"excerpt\",'label'])\n",
    "    search_terms=stemmer(search_terms)\n",
    "    for index, row in df1.iterrows():\n",
    "        \n",
    "        pub_sentence=''\n",
    "        sentences_used=0\n",
    "        \n",
    "        sentences = row['abstract'].split('. ')\n",
    "        \n",
    "        highligts=[]\n",
    "        for sentence in sentences:\n",
    "            \n",
    "            missing=0\n",
    "            \n",
    "            for word in search_terms:\n",
    "                \n",
    "                if word not in sentence:\n",
    "                    missing=1\n",
    "                    \n",
    "            \n",
    "            if missing==0 and len(sentence)<1000 and sentence!='':\n",
    "                sentence=sentence.capitalize()\n",
    "                if sentence[len(sentence)-1]!='.':\n",
    "                    sentence=sentence+'.'\n",
    "                pub_sentence=pub_sentence+sentence\n",
    "                \n",
    "        if pub_sentence!='':\n",
    "            sentence=pub_sentence\n",
    "            sentences_used=sentences_used+1\n",
    "            authors=row[\"authors\"].split(\" \")            \n",
    "            title=row[\"title\"]                       \n",
    "            to_append = [row['publish_time'],authors[0]+' et al.',title,sentence,str1]\n",
    "            df_length = len(df_table)\n",
    "            df_table.loc[df_length] = to_append\n",
    "    return df_table\n",
    "\n",
    "\n",
    "def search_dataframe(df,search_terms):   \n",
    "    search_words=stemmer(search_terms)\n",
    "    df1=df[functools.reduce(lambda a, b: a&b, (df['abstract'].str.contains(s) for s in search_terms))]\n",
    "    return df1\n",
    "\n",
    "\n",
    "\n"
   ]
  },
  {
   "cell_type": "code",
   "execution_count": 11,
   "metadata": {},
   "outputs": [
    {
     "data": {
      "text/html": [
       "<div>\n",
       "<style scoped>\n",
       "    .dataframe tbody tr th:only-of-type {\n",
       "        vertical-align: middle;\n",
       "    }\n",
       "\n",
       "    .dataframe tbody tr th {\n",
       "        vertical-align: top;\n",
       "    }\n",
       "\n",
       "    .dataframe thead th {\n",
       "        text-align: right;\n",
       "    }\n",
       "</style>\n",
       "<table border=\"1\" class=\"dataframe\">\n",
       "  <thead>\n",
       "    <tr style=\"text-align: right;\">\n",
       "      <th></th>\n",
       "      <th>pub_date</th>\n",
       "      <th>authors</th>\n",
       "      <th>title</th>\n",
       "      <th>excerpt</th>\n",
       "      <th>label</th>\n",
       "    </tr>\n",
       "  </thead>\n",
       "  <tbody>\n",
       "    <tr>\n",
       "      <th>0</th>\n",
       "      <td>2020-11-20</td>\n",
       "      <td>Boshier, et al.</td>\n",
       "      <td>Remdesivir induced viral RNA and subgenomic RN...</td>\n",
       "      <td>We conclude that these are likely to have aris...</td>\n",
       "      <td>transmission</td>\n",
       "    </tr>\n",
       "    <tr>\n",
       "      <th>1</th>\n",
       "      <td>2020-01-03</td>\n",
       "      <td>Chertow, et al.</td>\n",
       "      <td>Influenza, Measles, SARS, MERS, and Smallpox</td>\n",
       "      <td>Early case identification and strict infection...</td>\n",
       "      <td>transmission</td>\n",
       "    </tr>\n",
       "    <tr>\n",
       "      <th>2</th>\n",
       "      <td>2020-09-17</td>\n",
       "      <td>Gupta, et al.</td>\n",
       "      <td>Estimating the Impact of Daily Weather on the ...</td>\n",
       "      <td>Daily maximum (t(max)), minimum (t(min)), mean...</td>\n",
       "      <td>transmission</td>\n",
       "    </tr>\n",
       "    <tr>\n",
       "      <th>3</th>\n",
       "      <td>2015</td>\n",
       "      <td>Al-Tawfiq, et al.</td>\n",
       "      <td>Middle East respiratory syndrome coronavirus i...</td>\n",
       "      <td>Data suggest the overcrowding, late recognitio...</td>\n",
       "      <td>transmission</td>\n",
       "    </tr>\n",
       "    <tr>\n",
       "      <th>4</th>\n",
       "      <td>2020-06-17</td>\n",
       "      <td>Jing, et al.</td>\n",
       "      <td>Household secondary attack rate of COVID-19 an...</td>\n",
       "      <td>We assessed the demographic determinants of tr...</td>\n",
       "      <td>transmission</td>\n",
       "    </tr>\n",
       "  </tbody>\n",
       "</table>\n",
       "</div>"
      ],
      "text/plain": [
       "     pub_date            authors  \\\n",
       "0  2020-11-20    Boshier, et al.   \n",
       "1  2020-01-03    Chertow, et al.   \n",
       "2  2020-09-17      Gupta, et al.   \n",
       "3        2015  Al-Tawfiq, et al.   \n",
       "4  2020-06-17       Jing, et al.   \n",
       "\n",
       "                                               title  \\\n",
       "0  Remdesivir induced viral RNA and subgenomic RN...   \n",
       "1       Influenza, Measles, SARS, MERS, and Smallpox   \n",
       "2  Estimating the Impact of Daily Weather on the ...   \n",
       "3  Middle East respiratory syndrome coronavirus i...   \n",
       "4  Household secondary attack rate of COVID-19 an...   \n",
       "\n",
       "                                             excerpt         label  \n",
       "0  We conclude that these are likely to have aris...  transmission  \n",
       "1  Early case identification and strict infection...  transmission  \n",
       "2  Daily maximum (t(max)), minimum (t(min)), mean...  transmission  \n",
       "3  Data suggest the overcrowding, late recognitio...  transmission  \n",
       "4  We assessed the demographic determinants of tr...  transmission  "
      ]
     },
     "metadata": {},
     "output_type": "display_data"
    },
    {
     "data": {
      "text/html": [
       "<div>\n",
       "<style scoped>\n",
       "    .dataframe tbody tr th:only-of-type {\n",
       "        vertical-align: middle;\n",
       "    }\n",
       "\n",
       "    .dataframe tbody tr th {\n",
       "        vertical-align: top;\n",
       "    }\n",
       "\n",
       "    .dataframe thead th {\n",
       "        text-align: right;\n",
       "    }\n",
       "</style>\n",
       "<table border=\"1\" class=\"dataframe\">\n",
       "  <thead>\n",
       "    <tr style=\"text-align: right;\">\n",
       "      <th></th>\n",
       "      <th>pub_date</th>\n",
       "      <th>authors</th>\n",
       "      <th>title</th>\n",
       "      <th>excerpt</th>\n",
       "      <th>label</th>\n",
       "    </tr>\n",
       "  </thead>\n",
       "  <tbody>\n",
       "    <tr>\n",
       "      <th>0</th>\n",
       "      <td>2020-12-23</td>\n",
       "      <td>Taylor, et al.</td>\n",
       "      <td>Awake-Prone Positioning Strategy for Non-Intub...</td>\n",
       "      <td>Five inpatient medical service teams were rand...</td>\n",
       "      <td>treatment</td>\n",
       "    </tr>\n",
       "    <tr>\n",
       "      <th>1</th>\n",
       "      <td>2020-06-01</td>\n",
       "      <td>Blais, et al.</td>\n",
       "      <td>Consensus statement: summary of the Quebec Lun...</td>\n",
       "      <td>For each level-of-activity scenario, suggestio...</td>\n",
       "      <td>treatment</td>\n",
       "    </tr>\n",
       "    <tr>\n",
       "      <th>2</th>\n",
       "      <td>2020</td>\n",
       "      <td>Taylor, et al.</td>\n",
       "      <td>Awake-Prone Positioning Strategy for Non-Intub...</td>\n",
       "      <td>Five inpatient medical service teams were rand...</td>\n",
       "      <td>treatment</td>\n",
       "    </tr>\n",
       "    <tr>\n",
       "      <th>3</th>\n",
       "      <td>2020</td>\n",
       "      <td>Berman, et al.</td>\n",
       "      <td>Supportive Care: An Indispensable Component of...</td>\n",
       "      <td>The current focus of cancer care is on initial...</td>\n",
       "      <td>treatment</td>\n",
       "    </tr>\n",
       "    <tr>\n",
       "      <th>4</th>\n",
       "      <td>2020</td>\n",
       "      <td>Chamsi-Pasha, et al.</td>\n",
       "      <td>Ethical dilemmas in the era of COVID-19</td>\n",
       "      <td>Across the globe, hospitals are being challeng...</td>\n",
       "      <td>treatment</td>\n",
       "    </tr>\n",
       "  </tbody>\n",
       "</table>\n",
       "</div>"
      ],
      "text/plain": [
       "     pub_date               authors  \\\n",
       "0  2020-12-23        Taylor, et al.   \n",
       "1  2020-06-01         Blais, et al.   \n",
       "2        2020        Taylor, et al.   \n",
       "3        2020        Berman, et al.   \n",
       "4        2020  Chamsi-Pasha, et al.   \n",
       "\n",
       "                                               title  \\\n",
       "0  Awake-Prone Positioning Strategy for Non-Intub...   \n",
       "1  Consensus statement: summary of the Quebec Lun...   \n",
       "2  Awake-Prone Positioning Strategy for Non-Intub...   \n",
       "3  Supportive Care: An Indispensable Component of...   \n",
       "4            Ethical dilemmas in the era of COVID-19   \n",
       "\n",
       "                                             excerpt      label  \n",
       "0  Five inpatient medical service teams were rand...  treatment  \n",
       "1  For each level-of-activity scenario, suggestio...  treatment  \n",
       "2  Five inpatient medical service teams were rand...  treatment  \n",
       "3  The current focus of cancer care is on initial...  treatment  \n",
       "4  Across the globe, hospitals are being challeng...  treatment  "
      ]
     },
     "metadata": {},
     "output_type": "display_data"
    },
    {
     "data": {
      "text/html": [
       "<div>\n",
       "<style scoped>\n",
       "    .dataframe tbody tr th:only-of-type {\n",
       "        vertical-align: middle;\n",
       "    }\n",
       "\n",
       "    .dataframe tbody tr th {\n",
       "        vertical-align: top;\n",
       "    }\n",
       "\n",
       "    .dataframe thead th {\n",
       "        text-align: right;\n",
       "    }\n",
       "</style>\n",
       "<table border=\"1\" class=\"dataframe\">\n",
       "  <thead>\n",
       "    <tr style=\"text-align: right;\">\n",
       "      <th></th>\n",
       "      <th>pub_date</th>\n",
       "      <th>authors</th>\n",
       "      <th>title</th>\n",
       "      <th>excerpt</th>\n",
       "      <th>label</th>\n",
       "    </tr>\n",
       "  </thead>\n",
       "  <tbody>\n",
       "    <tr>\n",
       "      <th>0</th>\n",
       "      <td>2016-03-24</td>\n",
       "      <td>Ziegler, et al.</td>\n",
       "      <td>The Lymphocytic Choriomeningitis Virus Matrix ...</td>\n",
       "      <td>The lymphocytic choriomeningitis virus matrix ...</td>\n",
       "      <td>symptom</td>\n",
       "    </tr>\n",
       "    <tr>\n",
       "      <th>1</th>\n",
       "      <td>2019</td>\n",
       "      <td>Erben, et al.</td>\n",
       "      <td>Multicenter experience with endovascular treat...</td>\n",
       "      <td>Clinical presentation included asymptomatic in...</td>\n",
       "      <td>symptom</td>\n",
       "    </tr>\n",
       "    <tr>\n",
       "      <th>2</th>\n",
       "      <td>2020-11-20</td>\n",
       "      <td>Badgujar, et al.</td>\n",
       "      <td>Structural insights into loss of function of a...</td>\n",
       "      <td>The opportunistic pathogen streptococcus pneum...</td>\n",
       "      <td>symptom</td>\n",
       "    </tr>\n",
       "    <tr>\n",
       "      <th>3</th>\n",
       "      <td>2011</td>\n",
       "      <td>Gray, et al.</td>\n",
       "      <td>Influence of site and operator characteristics...</td>\n",
       "      <td>Methods in this assessment of the capture 2 st...</td>\n",
       "      <td>symptom</td>\n",
       "    </tr>\n",
       "    <tr>\n",
       "      <th>4</th>\n",
       "      <td>2016</td>\n",
       "      <td>Brachmann, et al.</td>\n",
       "      <td>Uncovering Atrial Fibrillation Beyond Short-Te...</td>\n",
       "      <td>However, af can be paroxysmal and asymptomatic...</td>\n",
       "      <td>symptom</td>\n",
       "    </tr>\n",
       "  </tbody>\n",
       "</table>\n",
       "</div>"
      ],
      "text/plain": [
       "     pub_date            authors  \\\n",
       "0  2016-03-24    Ziegler, et al.   \n",
       "1        2019      Erben, et al.   \n",
       "2  2020-11-20   Badgujar, et al.   \n",
       "3        2011       Gray, et al.   \n",
       "4        2016  Brachmann, et al.   \n",
       "\n",
       "                                               title  \\\n",
       "0  The Lymphocytic Choriomeningitis Virus Matrix ...   \n",
       "1  Multicenter experience with endovascular treat...   \n",
       "2  Structural insights into loss of function of a...   \n",
       "3  Influence of site and operator characteristics...   \n",
       "4  Uncovering Atrial Fibrillation Beyond Short-Te...   \n",
       "\n",
       "                                             excerpt    label  \n",
       "0  The lymphocytic choriomeningitis virus matrix ...  symptom  \n",
       "1  Clinical presentation included asymptomatic in...  symptom  \n",
       "2  The opportunistic pathogen streptococcus pneum...  symptom  \n",
       "3  Methods in this assessment of the capture 2 st...  symptom  \n",
       "4  However, af can be paroxysmal and asymptomatic...  symptom  "
      ]
     },
     "metadata": {},
     "output_type": "display_data"
    },
    {
     "data": {
      "text/html": [
       "<div>\n",
       "<style scoped>\n",
       "    .dataframe tbody tr th:only-of-type {\n",
       "        vertical-align: middle;\n",
       "    }\n",
       "\n",
       "    .dataframe tbody tr th {\n",
       "        vertical-align: top;\n",
       "    }\n",
       "\n",
       "    .dataframe thead th {\n",
       "        text-align: right;\n",
       "    }\n",
       "</style>\n",
       "<table border=\"1\" class=\"dataframe\">\n",
       "  <thead>\n",
       "    <tr style=\"text-align: right;\">\n",
       "      <th></th>\n",
       "      <th>pub_date</th>\n",
       "      <th>authors</th>\n",
       "      <th>title</th>\n",
       "      <th>excerpt</th>\n",
       "      <th>label</th>\n",
       "    </tr>\n",
       "  </thead>\n",
       "  <tbody>\n",
       "    <tr>\n",
       "      <th>0</th>\n",
       "      <td>2020-11-04</td>\n",
       "      <td>Eufemia, et al.</td>\n",
       "      <td>Peacebuilding in times of COVID-19: risk-adapt...</td>\n",
       "      <td>After reviewing academic and grey literature, ...</td>\n",
       "      <td>health risk</td>\n",
       "    </tr>\n",
       "    <tr>\n",
       "      <th>1</th>\n",
       "      <td>2020</td>\n",
       "      <td>Torres-Pinzon, et al.</td>\n",
       "      <td>Coronavirus Disease 2019 and the Case to Cover...</td>\n",
       "      <td>Coronavirus disease 2019 and the case to cover...</td>\n",
       "      <td>health risk</td>\n",
       "    </tr>\n",
       "    <tr>\n",
       "      <th>2</th>\n",
       "      <td>2020</td>\n",
       "      <td>Stasevic-Karlicic, et al.</td>\n",
       "      <td>Perspectives on mental health services during ...</td>\n",
       "      <td>Perspectives on mental health services during ...</td>\n",
       "      <td>health risk</td>\n",
       "    </tr>\n",
       "    <tr>\n",
       "      <th>3</th>\n",
       "      <td>2020</td>\n",
       "      <td>Cattaneo, et al.</td>\n",
       "      <td>Clinical characteristics and risk factors for ...</td>\n",
       "      <td>Clinical characteristics and risk factors for ...</td>\n",
       "      <td>health risk</td>\n",
       "    </tr>\n",
       "    <tr>\n",
       "      <th>4</th>\n",
       "      <td>2020-04-06</td>\n",
       "      <td>Islam, et al.</td>\n",
       "      <td>Modeling risk of infectious diseases: a case o...</td>\n",
       "      <td>Results according to the calculated risk index...</td>\n",
       "      <td>health risk</td>\n",
       "    </tr>\n",
       "  </tbody>\n",
       "</table>\n",
       "</div>"
      ],
      "text/plain": [
       "     pub_date                    authors  \\\n",
       "0  2020-11-04            Eufemia, et al.   \n",
       "1        2020      Torres-Pinzon, et al.   \n",
       "2        2020  Stasevic-Karlicic, et al.   \n",
       "3        2020           Cattaneo, et al.   \n",
       "4  2020-04-06              Islam, et al.   \n",
       "\n",
       "                                               title  \\\n",
       "0  Peacebuilding in times of COVID-19: risk-adapt...   \n",
       "1  Coronavirus Disease 2019 and the Case to Cover...   \n",
       "2  Perspectives on mental health services during ...   \n",
       "3  Clinical characteristics and risk factors for ...   \n",
       "4  Modeling risk of infectious diseases: a case o...   \n",
       "\n",
       "                                             excerpt        label  \n",
       "0  After reviewing academic and grey literature, ...  health risk  \n",
       "1  Coronavirus disease 2019 and the case to cover...  health risk  \n",
       "2  Perspectives on mental health services during ...  health risk  \n",
       "3  Clinical characteristics and risk factors for ...  health risk  \n",
       "4  Results according to the calculated risk index...  health risk  "
      ]
     },
     "metadata": {},
     "output_type": "display_data"
    },
    {
     "data": {
      "text/html": [
       "<div>\n",
       "<style scoped>\n",
       "    .dataframe tbody tr th:only-of-type {\n",
       "        vertical-align: middle;\n",
       "    }\n",
       "\n",
       "    .dataframe tbody tr th {\n",
       "        vertical-align: top;\n",
       "    }\n",
       "\n",
       "    .dataframe thead th {\n",
       "        text-align: right;\n",
       "    }\n",
       "</style>\n",
       "<table border=\"1\" class=\"dataframe\">\n",
       "  <thead>\n",
       "    <tr style=\"text-align: right;\">\n",
       "      <th></th>\n",
       "      <th>pub_date</th>\n",
       "      <th>authors</th>\n",
       "      <th>title</th>\n",
       "      <th>excerpt</th>\n",
       "      <th>label</th>\n",
       "    </tr>\n",
       "  </thead>\n",
       "  <tbody>\n",
       "    <tr>\n",
       "      <th>0</th>\n",
       "      <td>2020-09-21</td>\n",
       "      <td>Su, et al.</td>\n",
       "      <td>Early diagnosis and population prevention of c...</td>\n",
       "      <td>Due to the lack of effective drugs and vaccine...</td>\n",
       "      <td>prevention</td>\n",
       "    </tr>\n",
       "    <tr>\n",
       "      <th>1</th>\n",
       "      <td>2020-06-17</td>\n",
       "      <td>Jing, et al.</td>\n",
       "      <td>Household secondary attack rate of COVID-19 an...</td>\n",
       "      <td>In addition to case finding and isolation, tim...</td>\n",
       "      <td>prevention</td>\n",
       "    </tr>\n",
       "    <tr>\n",
       "      <th>2</th>\n",
       "      <td>2020-09-01</td>\n",
       "      <td>Ayenigbara, et al.</td>\n",
       "      <td>COVID-19 (SARS-CoV-2) pandemic: fears, facts a...</td>\n",
       "      <td>The world is faced with containing the spread ...</td>\n",
       "      <td>prevention</td>\n",
       "    </tr>\n",
       "    <tr>\n",
       "      <th>3</th>\n",
       "      <td>2020-05-13</td>\n",
       "      <td>Singh, et al.</td>\n",
       "      <td>Knowledge and Perception Towards Universal Saf...</td>\n",
       "      <td>Although participants' overall knowledge score...</td>\n",
       "      <td>prevention</td>\n",
       "    </tr>\n",
       "    <tr>\n",
       "      <th>4</th>\n",
       "      <td>2020-11-04</td>\n",
       "      <td>Feiz et al.</td>\n",
       "      <td>The health effects of quarantine during the CO...</td>\n",
       "      <td>In the case of the coronavirus epidemic, quara...</td>\n",
       "      <td>prevention</td>\n",
       "    </tr>\n",
       "  </tbody>\n",
       "</table>\n",
       "</div>"
      ],
      "text/plain": [
       "     pub_date             authors  \\\n",
       "0  2020-09-21          Su, et al.   \n",
       "1  2020-06-17        Jing, et al.   \n",
       "2  2020-09-01  Ayenigbara, et al.   \n",
       "3  2020-05-13       Singh, et al.   \n",
       "4  2020-11-04         Feiz et al.   \n",
       "\n",
       "                                               title  \\\n",
       "0  Early diagnosis and population prevention of c...   \n",
       "1  Household secondary attack rate of COVID-19 an...   \n",
       "2  COVID-19 (SARS-CoV-2) pandemic: fears, facts a...   \n",
       "3  Knowledge and Perception Towards Universal Saf...   \n",
       "4  The health effects of quarantine during the CO...   \n",
       "\n",
       "                                             excerpt       label  \n",
       "0  Due to the lack of effective drugs and vaccine...  prevention  \n",
       "1  In addition to case finding and isolation, tim...  prevention  \n",
       "2  The world is faced with containing the spread ...  prevention  \n",
       "3  Although participants' overall knowledge score...  prevention  \n",
       "4  In the case of the coronavirus epidemic, quara...  prevention  "
      ]
     },
     "metadata": {},
     "output_type": "display_data"
    },
    {
     "name": "stdout",
     "output_type": "stream",
     "text": [
      "done\n"
     ]
    }
   ],
   "source": [
    "#list of labels and list of search terms per label\n",
    "labels = ['transmission','treatment','symptom','health risk', 'prevention']\n",
    "search=[['transmission','infection','case'],['treatment','care'],['symptom','asymptomatic'],['risk','vulnerable','affect'],['prevent','quarantine']]\n",
    "label_table = ['','','','','']\n",
    "q=0\n",
    "\n",
    "\n",
    "for search_terms in search:\n",
    "    #str1=''\n",
    "    str1 = labels[q]\n",
    "    \n",
    "    #search the dataframe for all words\n",
    "    df1=search_dataframe(df,search_terms)\n",
    "   \n",
    "    # get best sentences\n",
    "    df_table=get_sentences(df1,search_terms,str1)    \n",
    "    \n",
    "    length=df_table.shape[0]\n",
    "\n",
    "    if length<1:\n",
    "        print (\"No reliable data could be located in the literature\")\n",
    "    else:\n",
    "        display(df_table.head())\n",
    "    label_table[q] = df_table\n",
    "    q=q+1\n",
    "    \n",
    "print ('done')"
   ]
  },
  {
   "cell_type": "code",
   "execution_count": 12,
   "metadata": {},
   "outputs": [
    {
     "data": {
      "text/html": [
       "<div>\n",
       "<style scoped>\n",
       "    .dataframe tbody tr th:only-of-type {\n",
       "        vertical-align: middle;\n",
       "    }\n",
       "\n",
       "    .dataframe tbody tr th {\n",
       "        vertical-align: top;\n",
       "    }\n",
       "\n",
       "    .dataframe thead th {\n",
       "        text-align: right;\n",
       "    }\n",
       "</style>\n",
       "<table border=\"1\" class=\"dataframe\">\n",
       "  <thead>\n",
       "    <tr style=\"text-align: right;\">\n",
       "      <th></th>\n",
       "      <th>index</th>\n",
       "      <th>pub_date</th>\n",
       "      <th>authors</th>\n",
       "      <th>title</th>\n",
       "      <th>excerpt</th>\n",
       "      <th>label</th>\n",
       "    </tr>\n",
       "  </thead>\n",
       "  <tbody>\n",
       "    <tr>\n",
       "      <th>0</th>\n",
       "      <td>0</td>\n",
       "      <td>2020-11-20</td>\n",
       "      <td>Boshier, et al.</td>\n",
       "      <td>Remdesivir induced viral RNA and subgenomic RN...</td>\n",
       "      <td>We conclude that these are likely to have aris...</td>\n",
       "      <td>transmission</td>\n",
       "    </tr>\n",
       "    <tr>\n",
       "      <th>1</th>\n",
       "      <td>1</td>\n",
       "      <td>2020-01-03</td>\n",
       "      <td>Chertow, et al.</td>\n",
       "      <td>Influenza, Measles, SARS, MERS, and Smallpox</td>\n",
       "      <td>Early case identification and strict infection...</td>\n",
       "      <td>transmission</td>\n",
       "    </tr>\n",
       "    <tr>\n",
       "      <th>2</th>\n",
       "      <td>2</td>\n",
       "      <td>2020-09-17</td>\n",
       "      <td>Gupta, et al.</td>\n",
       "      <td>Estimating the Impact of Daily Weather on the ...</td>\n",
       "      <td>Daily maximum (t(max)), minimum (t(min)), mean...</td>\n",
       "      <td>transmission</td>\n",
       "    </tr>\n",
       "    <tr>\n",
       "      <th>3</th>\n",
       "      <td>3</td>\n",
       "      <td>2015</td>\n",
       "      <td>Al-Tawfiq, et al.</td>\n",
       "      <td>Middle East respiratory syndrome coronavirus i...</td>\n",
       "      <td>Data suggest the overcrowding, late recognitio...</td>\n",
       "      <td>transmission</td>\n",
       "    </tr>\n",
       "    <tr>\n",
       "      <th>4</th>\n",
       "      <td>4</td>\n",
       "      <td>2020-06-17</td>\n",
       "      <td>Jing, et al.</td>\n",
       "      <td>Household secondary attack rate of COVID-19 an...</td>\n",
       "      <td>We assessed the demographic determinants of tr...</td>\n",
       "      <td>transmission</td>\n",
       "    </tr>\n",
       "    <tr>\n",
       "      <th>5</th>\n",
       "      <td>5</td>\n",
       "      <td>2020-07-09</td>\n",
       "      <td>Rockett, et al.</td>\n",
       "      <td>Revealing COVID-19 transmission in Australia b...</td>\n",
       "      <td>We report that the prospective sequencing of s...</td>\n",
       "      <td>transmission</td>\n",
       "    </tr>\n",
       "    <tr>\n",
       "      <th>6</th>\n",
       "      <td>6</td>\n",
       "      <td>2020-02-27</td>\n",
       "      <td>Zhu, et al.</td>\n",
       "      <td>[Challenges and countermeasures on Chinese mal...</td>\n",
       "      <td>Due to the extensive spread and high transmiss...</td>\n",
       "      <td>transmission</td>\n",
       "    </tr>\n",
       "    <tr>\n",
       "      <th>7</th>\n",
       "      <td>7</td>\n",
       "      <td>2020-04-08</td>\n",
       "      <td>Wang, et al.</td>\n",
       "      <td>Current trends and future prediction of novel ...</td>\n",
       "      <td>Based on the current control measures, we prop...</td>\n",
       "      <td>transmission</td>\n",
       "    </tr>\n",
       "    <tr>\n",
       "      <th>8</th>\n",
       "      <td>8</td>\n",
       "      <td>2020-02-06</td>\n",
       "      <td>no et al.</td>\n",
       "      <td>2019-nCoV acute respiratory disease, Australia...</td>\n",
       "      <td>It includes data on australian cases notified ...</td>\n",
       "      <td>transmission</td>\n",
       "    </tr>\n",
       "    <tr>\n",
       "      <th>9</th>\n",
       "      <td>9</td>\n",
       "      <td>2020-07-14</td>\n",
       "      <td>Bahramian, et al.</td>\n",
       "      <td>COVID-19 Considerations in Pediatric Dentistry.</td>\n",
       "      <td>Therefore, we need to beware of the symptoms a...</td>\n",
       "      <td>transmission</td>\n",
       "    </tr>\n",
       "    <tr>\n",
       "      <th>10</th>\n",
       "      <td>10</td>\n",
       "      <td>2020-10-01</td>\n",
       "      <td>Lu, et al.</td>\n",
       "      <td>Epidemiological parameters of COVID-19 and its...</td>\n",
       "      <td>Backgroundthe natural history of disease in pa...</td>\n",
       "      <td>transmission</td>\n",
       "    </tr>\n",
       "    <tr>\n",
       "      <th>11</th>\n",
       "      <td>11</td>\n",
       "      <td>2020-04-27</td>\n",
       "      <td>Schwartz, et al.</td>\n",
       "      <td>INFECTIONS IN PREGNANCY WITH COVID-19 AND OTHE...</td>\n",
       "      <td>There have been no confirmed cases of intraute...</td>\n",
       "      <td>transmission</td>\n",
       "    </tr>\n",
       "    <tr>\n",
       "      <th>12</th>\n",
       "      <td>12</td>\n",
       "      <td>2020-09-02</td>\n",
       "      <td>Khokhar, et al.</td>\n",
       "      <td>Viricidal treatments for prevention of coronav...</td>\n",
       "      <td>However, indirect transmission from inanimate ...</td>\n",
       "      <td>transmission</td>\n",
       "    </tr>\n",
       "    <tr>\n",
       "      <th>13</th>\n",
       "      <td>13</td>\n",
       "      <td>2020-09-06</td>\n",
       "      <td>Liu, et al.</td>\n",
       "      <td>Clinical Analysis of Neonates Born to Mothers ...</td>\n",
       "      <td>No evidence of vertical transmission was found...</td>\n",
       "      <td>transmission</td>\n",
       "    </tr>\n",
       "    <tr>\n",
       "      <th>14</th>\n",
       "      <td>14</td>\n",
       "      <td>2014</td>\n",
       "      <td>Drosten, et al.</td>\n",
       "      <td>Transmission of MERS-coronavirus in household ...</td>\n",
       "      <td>Probable cases of secondary transmission were ...</td>\n",
       "      <td>transmission</td>\n",
       "    </tr>\n",
       "    <tr>\n",
       "      <th>15</th>\n",
       "      <td>15</td>\n",
       "      <td>2015</td>\n",
       "      <td>Galván, et al.</td>\n",
       "      <td>Review of Non-Bacterial Infections in Respirat...</td>\n",
       "      <td>Neuraminidase inhibitors for viral pneumonia h...</td>\n",
       "      <td>transmission</td>\n",
       "    </tr>\n",
       "    <tr>\n",
       "      <th>16</th>\n",
       "      <td>16</td>\n",
       "      <td>2020-08-30</td>\n",
       "      <td>Rubio et al.</td>\n",
       "      <td>Study of amniotic fluid in pregnant women infe...</td>\n",
       "      <td>We present two cases of pregnant women with co...</td>\n",
       "      <td>transmission</td>\n",
       "    </tr>\n",
       "    <tr>\n",
       "      <th>17</th>\n",
       "      <td>17</td>\n",
       "      <td>2020-07-31</td>\n",
       "      <td>He, et al.</td>\n",
       "      <td>[Epidemiological study design of asymptomatic ...</td>\n",
       "      <td>Covid-19clinical cases are considered as the p...</td>\n",
       "      <td>transmission</td>\n",
       "    </tr>\n",
       "    <tr>\n",
       "      <th>18</th>\n",
       "      <td>18</td>\n",
       "      <td>2020-10-22</td>\n",
       "      <td>Hobbs, et al.</td>\n",
       "      <td>Animals and SARS-CoV-2: Species susceptibility...</td>\n",
       "      <td>To date, two potential cases of animal-to-huma...</td>\n",
       "      <td>transmission</td>\n",
       "    </tr>\n",
       "    <tr>\n",
       "      <th>19</th>\n",
       "      <td>19</td>\n",
       "      <td>2020-12-24</td>\n",
       "      <td>Costagliola, et al.</td>\n",
       "      <td>Do Animals Play a Role in the Transmission of ...</td>\n",
       "      <td>A sars-cov-2 variant in the danish farmed mink...</td>\n",
       "      <td>transmission</td>\n",
       "    </tr>\n",
       "    <tr>\n",
       "      <th>20</th>\n",
       "      <td>20</td>\n",
       "      <td>2020-08-17</td>\n",
       "      <td>Kant, et al.</td>\n",
       "      <td>A preliminary study on contact tracing &amp; trans...</td>\n",
       "      <td>A preliminary study on contact tracing &amp; trans...</td>\n",
       "      <td>transmission</td>\n",
       "    </tr>\n",
       "    <tr>\n",
       "      <th>21</th>\n",
       "      <td>21</td>\n",
       "      <td>2016</td>\n",
       "      <td>Cauchemez, et al.</td>\n",
       "      <td>Unraveling the drivers of MERS-CoV transmission.</td>\n",
       "      <td>We estimate that 12% [95% credible interval (c...</td>\n",
       "      <td>transmission</td>\n",
       "    </tr>\n",
       "    <tr>\n",
       "      <th>22</th>\n",
       "      <td>22</td>\n",
       "      <td>2020-04-13</td>\n",
       "      <td>Yu, et al.</td>\n",
       "      <td>Loopholes in Current Infection Control and Pre...</td>\n",
       "      <td>Methods retrospective analysis of 2 cases of h...</td>\n",
       "      <td>transmission</td>\n",
       "    </tr>\n",
       "    <tr>\n",
       "      <th>23</th>\n",
       "      <td>23</td>\n",
       "      <td>2020-07-06</td>\n",
       "      <td>Kosmaczewska, et al.</td>\n",
       "      <td>Dysregulation of the immune system as a driver...</td>\n",
       "      <td>The occurrence of virus transmission even in a...</td>\n",
       "      <td>transmission</td>\n",
       "    </tr>\n",
       "    <tr>\n",
       "      <th>24</th>\n",
       "      <td>24</td>\n",
       "      <td>2020-02-12</td>\n",
       "      <td>no et al.</td>\n",
       "      <td>COVID-19, Australia: Epidemiology Report 2 (Re...</td>\n",
       "      <td>It includes data on australian cases notified ...</td>\n",
       "      <td>transmission</td>\n",
       "    </tr>\n",
       "    <tr>\n",
       "      <th>25</th>\n",
       "      <td>25</td>\n",
       "      <td>2020-05-11</td>\n",
       "      <td>Stedman, et al.</td>\n",
       "      <td>COVID-19: Generate and apply local modelled Tr...</td>\n",
       "      <td>To analyse case incidence, the latest values f...</td>\n",
       "      <td>transmission</td>\n",
       "    </tr>\n",
       "    <tr>\n",
       "      <th>26</th>\n",
       "      <td>26</td>\n",
       "      <td>2020-05-09</td>\n",
       "      <td>Jing, et al.</td>\n",
       "      <td>[Contagiousness and secondary attack rate of 2...</td>\n",
       "      <td>The average number of contagiousness was 2.18 ...</td>\n",
       "      <td>transmission</td>\n",
       "    </tr>\n",
       "    <tr>\n",
       "      <th>27</th>\n",
       "      <td>27</td>\n",
       "      <td>2020-08-26</td>\n",
       "      <td>Dinnes, et al.</td>\n",
       "      <td>Rapid, point-of-care antigen and molecular-bas...</td>\n",
       "      <td>Point-of-care antigen and molecular tests to d...</td>\n",
       "      <td>transmission</td>\n",
       "    </tr>\n",
       "    <tr>\n",
       "      <th>28</th>\n",
       "      <td>28</td>\n",
       "      <td>2020-03-01</td>\n",
       "      <td>Wei, et al.</td>\n",
       "      <td>[Fitting and forecasting the trend of COVID-19...</td>\n",
       "      <td>Methods: based on seir dynamic model, consider...</td>\n",
       "      <td>transmission</td>\n",
       "    </tr>\n",
       "    <tr>\n",
       "      <th>29</th>\n",
       "      <td>29</td>\n",
       "      <td>no text available</td>\n",
       "      <td>Baron, et al.</td>\n",
       "      <td>Incidence and Case-Fatality Ratio of COVID-19 ...</td>\n",
       "      <td>The aim of the study was to observe the incide...</td>\n",
       "      <td>transmission</td>\n",
       "    </tr>\n",
       "    <tr>\n",
       "      <th>...</th>\n",
       "      <td>...</td>\n",
       "      <td>...</td>\n",
       "      <td>...</td>\n",
       "      <td>...</td>\n",
       "      <td>...</td>\n",
       "      <td>...</td>\n",
       "    </tr>\n",
       "    <tr>\n",
       "      <th>4019</th>\n",
       "      <td>159</td>\n",
       "      <td>2003-12-31</td>\n",
       "      <td>Leung, et al.</td>\n",
       "      <td>Severe acute respiratory syndrome (SARS) in ch...</td>\n",
       "      <td>The early and proper isolation of infected adu...</td>\n",
       "      <td>prevention</td>\n",
       "    </tr>\n",
       "    <tr>\n",
       "      <th>4020</th>\n",
       "      <td>160</td>\n",
       "      <td>2020-06-07</td>\n",
       "      <td>Mandal, et al.</td>\n",
       "      <td>Can the summer temperature drop COVID-19 cases?</td>\n",
       "      <td>Can the summer temperature drop covid-19 cases...</td>\n",
       "      <td>prevention</td>\n",
       "    </tr>\n",
       "    <tr>\n",
       "      <th>4021</th>\n",
       "      <td>161</td>\n",
       "      <td>2020-05-05</td>\n",
       "      <td>Knoch, et al.</td>\n",
       "      <td>RSI model: COVID-19 in Germany Alternating qua...</td>\n",
       "      <td>Rsi model: covid-19 in germany alternating qua...</td>\n",
       "      <td>prevention</td>\n",
       "    </tr>\n",
       "    <tr>\n",
       "      <th>4022</th>\n",
       "      <td>162</td>\n",
       "      <td>2020-12-18</td>\n",
       "      <td>Li, et al.</td>\n",
       "      <td>Clinical characteristics and viral shedding ki...</td>\n",
       "      <td>The study included 20 family members of patien...</td>\n",
       "      <td>prevention</td>\n",
       "    </tr>\n",
       "    <tr>\n",
       "      <th>4023</th>\n",
       "      <td>163</td>\n",
       "      <td>2016-01-18</td>\n",
       "      <td>Kim, et al.</td>\n",
       "      <td>The Characteristics of Middle Eastern Respirat...</td>\n",
       "      <td>Conclusion: it turned out to be the intensive ...</td>\n",
       "      <td>prevention</td>\n",
       "    </tr>\n",
       "    <tr>\n",
       "      <th>4024</th>\n",
       "      <td>164</td>\n",
       "      <td>2020-07-09</td>\n",
       "      <td>Velarde-Ruiz et al.</td>\n",
       "      <td>Hepatic manifestations and impact of COVID-19 ...</td>\n",
       "      <td>The recommendations for those patients, in add...</td>\n",
       "      <td>prevention</td>\n",
       "    </tr>\n",
       "    <tr>\n",
       "      <th>4025</th>\n",
       "      <td>165</td>\n",
       "      <td>2020-07-28</td>\n",
       "      <td>Li, et al.</td>\n",
       "      <td>The performance of Mobile Cabin Hospital in co...</td>\n",
       "      <td>The epidemic first broke out in wuhan, where t...</td>\n",
       "      <td>prevention</td>\n",
       "    </tr>\n",
       "    <tr>\n",
       "      <th>4026</th>\n",
       "      <td>166</td>\n",
       "      <td>2020-04-30</td>\n",
       "      <td>Tian, et al.</td>\n",
       "      <td>Characteristics of COVID-19 infection in Beijing</td>\n",
       "      <td>The measures to prevent transmission was very ...</td>\n",
       "      <td>prevention</td>\n",
       "    </tr>\n",
       "    <tr>\n",
       "      <th>4027</th>\n",
       "      <td>167</td>\n",
       "      <td>2020-10-30</td>\n",
       "      <td>Pray, et al.</td>\n",
       "      <td>COVID-19 Outbreak at an Overnight Summer Schoo...</td>\n",
       "      <td>Mitigation plans that include prearrival quara...</td>\n",
       "      <td>prevention</td>\n",
       "    </tr>\n",
       "    <tr>\n",
       "      <th>4028</th>\n",
       "      <td>168</td>\n",
       "      <td>2020-12-18</td>\n",
       "      <td>Hobbs, et al.</td>\n",
       "      <td>Factors Associated with Positive SARS-CoV-2 Te...</td>\n",
       "      <td>Consistent use of masks, social distancing, is...</td>\n",
       "      <td>prevention</td>\n",
       "    </tr>\n",
       "    <tr>\n",
       "      <th>4029</th>\n",
       "      <td>169</td>\n",
       "      <td>2019-03-13</td>\n",
       "      <td>Magtoto, et al.</td>\n",
       "      <td>Evaluation of the Serologic Cross-Reactivity b...</td>\n",
       "      <td>Importance current measures to prevent tgev fr...</td>\n",
       "      <td>prevention</td>\n",
       "    </tr>\n",
       "    <tr>\n",
       "      <th>4030</th>\n",
       "      <td>170</td>\n",
       "      <td>2020-05-15</td>\n",
       "      <td>Mayr, et al.</td>\n",
       "      <td>Quarantäne alleine oder in Kombination mit wei...</td>\n",
       "      <td>For example, the models estimated that quarant...</td>\n",
       "      <td>prevention</td>\n",
       "    </tr>\n",
       "    <tr>\n",
       "      <th>4031</th>\n",
       "      <td>171</td>\n",
       "      <td>2020-02-21</td>\n",
       "      <td>Wong, et al.</td>\n",
       "      <td>The role of institutional trust in preventive ...</td>\n",
       "      <td>A high uptake of 2019-ncov preventive measures...</td>\n",
       "      <td>prevention</td>\n",
       "    </tr>\n",
       "    <tr>\n",
       "      <th>4032</th>\n",
       "      <td>172</td>\n",
       "      <td>2004-02-09</td>\n",
       "      <td>Desenclos, et al.</td>\n",
       "      <td>Introduction of SARS in France, March–April, 2003</td>\n",
       "      <td>Timely detection, isolation of probable cases,...</td>\n",
       "      <td>prevention</td>\n",
       "    </tr>\n",
       "    <tr>\n",
       "      <th>4033</th>\n",
       "      <td>173</td>\n",
       "      <td>2020-08-07</td>\n",
       "      <td>Lin, et al.</td>\n",
       "      <td>Quarantine Measures for Coronavirus Disease 20...</td>\n",
       "      <td>Quarantine measures for coronavirus disease 20...</td>\n",
       "      <td>prevention</td>\n",
       "    </tr>\n",
       "    <tr>\n",
       "      <th>4034</th>\n",
       "      <td>174</td>\n",
       "      <td>2020-07-07</td>\n",
       "      <td>Sandmann, et al.</td>\n",
       "      <td>Optimizing Benefits of Testing Key Workers for...</td>\n",
       "      <td>This potentially isolates/quarantines many sta...</td>\n",
       "      <td>prevention</td>\n",
       "    </tr>\n",
       "    <tr>\n",
       "      <th>4035</th>\n",
       "      <td>175</td>\n",
       "      <td>2020-11-13</td>\n",
       "      <td>Kanu, et al.</td>\n",
       "      <td>Declines in SARS-CoV-2 Transmission, Hospitali...</td>\n",
       "      <td>Declines in sars-cov-2 transmission, hospitali...</td>\n",
       "      <td>prevention</td>\n",
       "    </tr>\n",
       "    <tr>\n",
       "      <th>4036</th>\n",
       "      <td>176</td>\n",
       "      <td>2020-06-07</td>\n",
       "      <td>Zhu, et al.</td>\n",
       "      <td>Clinical features of COVID‐19 convalescent pat...</td>\n",
       "      <td>Continuous quarantine and close follow‐up for ...</td>\n",
       "      <td>prevention</td>\n",
       "    </tr>\n",
       "    <tr>\n",
       "      <th>4037</th>\n",
       "      <td>177</td>\n",
       "      <td>2020-04-23</td>\n",
       "      <td>rad, et al.</td>\n",
       "      <td>A study on control of novel corona-virus (2019...</td>\n",
       "      <td>Using the results and analyzing them, it was f...</td>\n",
       "      <td>prevention</td>\n",
       "    </tr>\n",
       "    <tr>\n",
       "      <th>4038</th>\n",
       "      <td>178</td>\n",
       "      <td>2020-03-23</td>\n",
       "      <td>Yan, et al.</td>\n",
       "      <td>Clinical Characteristics of Coronavirus Diseas...</td>\n",
       "      <td>Conclusions: in light of the rapid spread of c...</td>\n",
       "      <td>prevention</td>\n",
       "    </tr>\n",
       "    <tr>\n",
       "      <th>4039</th>\n",
       "      <td>179</td>\n",
       "      <td>2020-08-25</td>\n",
       "      <td>Yang, et al.</td>\n",
       "      <td>Multidisciplinary, three-dimensional and indiv...</td>\n",
       "      <td>The mdt should make rounds of the quarantine w...</td>\n",
       "      <td>prevention</td>\n",
       "    </tr>\n",
       "    <tr>\n",
       "      <th>4040</th>\n",
       "      <td>180</td>\n",
       "      <td>2020-03-18</td>\n",
       "      <td>Xie, et al.</td>\n",
       "      <td>Effect of large-scale testing platform in prev...</td>\n",
       "      <td>Effect of large-scale testing platform in prev...</td>\n",
       "      <td>prevention</td>\n",
       "    </tr>\n",
       "    <tr>\n",
       "      <th>4041</th>\n",
       "      <td>181</td>\n",
       "      <td>2020-03-18</td>\n",
       "      <td>Jiang, et al.</td>\n",
       "      <td>Is a 14-day quarantine period optimal for effe...</td>\n",
       "      <td>An extension of the adult quarantine period to...</td>\n",
       "      <td>prevention</td>\n",
       "    </tr>\n",
       "    <tr>\n",
       "      <th>4042</th>\n",
       "      <td>182</td>\n",
       "      <td>2020-03-27</td>\n",
       "      <td>Zhao, et al.</td>\n",
       "      <td>A Social Network Model of the COVID-19 Pandemic</td>\n",
       "      <td>Thus, preventing viral transmission by case is...</td>\n",
       "      <td>prevention</td>\n",
       "    </tr>\n",
       "    <tr>\n",
       "      <th>4043</th>\n",
       "      <td>183</td>\n",
       "      <td>2020-06-14</td>\n",
       "      <td>Najafi, et al.</td>\n",
       "      <td>Serial interval and time-varying reproduction ...</td>\n",
       "      <td>It can be concluded that the low reproduction ...</td>\n",
       "      <td>prevention</td>\n",
       "    </tr>\n",
       "    <tr>\n",
       "      <th>4044</th>\n",
       "      <td>184</td>\n",
       "      <td>2020-07-15</td>\n",
       "      <td>de et al.</td>\n",
       "      <td>EFFECTS OF QUARANTINE ON MENTAL HEALTH OF POPU...</td>\n",
       "      <td>Effects of quarantine on mental health of popu...</td>\n",
       "      <td>prevention</td>\n",
       "    </tr>\n",
       "    <tr>\n",
       "      <th>4045</th>\n",
       "      <td>185</td>\n",
       "      <td>2020-04-10</td>\n",
       "      <td>He, et al.</td>\n",
       "      <td>The clinical feature of silent infections of n...</td>\n",
       "      <td>Our study indicated that traced the close cont...</td>\n",
       "      <td>prevention</td>\n",
       "    </tr>\n",
       "    <tr>\n",
       "      <th>4046</th>\n",
       "      <td>186</td>\n",
       "      <td>2020-04-16</td>\n",
       "      <td>Minetto, et al.</td>\n",
       "      <td>Measuring Human and Economic Activity from Sat...</td>\n",
       "      <td>Measuring human and economic activity from sat...</td>\n",
       "      <td>prevention</td>\n",
       "    </tr>\n",
       "    <tr>\n",
       "      <th>4047</th>\n",
       "      <td>187</td>\n",
       "      <td>2020</td>\n",
       "      <td>Tang, et al.</td>\n",
       "      <td>De-escalation by reversing the escalation with...</td>\n",
       "      <td>De-escalation by reversing the escalation with...</td>\n",
       "      <td>prevention</td>\n",
       "    </tr>\n",
       "    <tr>\n",
       "      <th>4048</th>\n",
       "      <td>188</td>\n",
       "      <td>2020</td>\n",
       "      <td>Shujath, et al.</td>\n",
       "      <td>Management of sars-cov-2 (Covid-19) infection ...</td>\n",
       "      <td>Management of sars-cov-2 (covid-19) infection ...</td>\n",
       "      <td>prevention</td>\n",
       "    </tr>\n",
       "  </tbody>\n",
       "</table>\n",
       "<p>4049 rows × 6 columns</p>\n",
       "</div>"
      ],
      "text/plain": [
       "      index           pub_date               authors  \\\n",
       "0         0         2020-11-20       Boshier, et al.   \n",
       "1         1         2020-01-03       Chertow, et al.   \n",
       "2         2         2020-09-17         Gupta, et al.   \n",
       "3         3               2015     Al-Tawfiq, et al.   \n",
       "4         4         2020-06-17          Jing, et al.   \n",
       "5         5         2020-07-09       Rockett, et al.   \n",
       "6         6         2020-02-27           Zhu, et al.   \n",
       "7         7         2020-04-08          Wang, et al.   \n",
       "8         8         2020-02-06             no et al.   \n",
       "9         9         2020-07-14     Bahramian, et al.   \n",
       "10       10         2020-10-01            Lu, et al.   \n",
       "11       11         2020-04-27      Schwartz, et al.   \n",
       "12       12         2020-09-02       Khokhar, et al.   \n",
       "13       13         2020-09-06           Liu, et al.   \n",
       "14       14               2014       Drosten, et al.   \n",
       "15       15               2015        Galván, et al.   \n",
       "16       16         2020-08-30          Rubio et al.   \n",
       "17       17         2020-07-31            He, et al.   \n",
       "18       18         2020-10-22         Hobbs, et al.   \n",
       "19       19         2020-12-24   Costagliola, et al.   \n",
       "20       20         2020-08-17          Kant, et al.   \n",
       "21       21               2016     Cauchemez, et al.   \n",
       "22       22         2020-04-13            Yu, et al.   \n",
       "23       23         2020-07-06  Kosmaczewska, et al.   \n",
       "24       24         2020-02-12             no et al.   \n",
       "25       25         2020-05-11       Stedman, et al.   \n",
       "26       26         2020-05-09          Jing, et al.   \n",
       "27       27         2020-08-26        Dinnes, et al.   \n",
       "28       28         2020-03-01           Wei, et al.   \n",
       "29       29  no text available         Baron, et al.   \n",
       "...     ...                ...                   ...   \n",
       "4019    159         2003-12-31         Leung, et al.   \n",
       "4020    160         2020-06-07        Mandal, et al.   \n",
       "4021    161         2020-05-05         Knoch, et al.   \n",
       "4022    162         2020-12-18            Li, et al.   \n",
       "4023    163         2016-01-18           Kim, et al.   \n",
       "4024    164         2020-07-09   Velarde-Ruiz et al.   \n",
       "4025    165         2020-07-28            Li, et al.   \n",
       "4026    166         2020-04-30          Tian, et al.   \n",
       "4027    167         2020-10-30          Pray, et al.   \n",
       "4028    168         2020-12-18         Hobbs, et al.   \n",
       "4029    169         2019-03-13       Magtoto, et al.   \n",
       "4030    170         2020-05-15          Mayr, et al.   \n",
       "4031    171         2020-02-21          Wong, et al.   \n",
       "4032    172         2004-02-09     Desenclos, et al.   \n",
       "4033    173         2020-08-07           Lin, et al.   \n",
       "4034    174         2020-07-07      Sandmann, et al.   \n",
       "4035    175         2020-11-13          Kanu, et al.   \n",
       "4036    176         2020-06-07           Zhu, et al.   \n",
       "4037    177         2020-04-23           rad, et al.   \n",
       "4038    178         2020-03-23           Yan, et al.   \n",
       "4039    179         2020-08-25          Yang, et al.   \n",
       "4040    180         2020-03-18           Xie, et al.   \n",
       "4041    181         2020-03-18         Jiang, et al.   \n",
       "4042    182         2020-03-27          Zhao, et al.   \n",
       "4043    183         2020-06-14        Najafi, et al.   \n",
       "4044    184         2020-07-15             de et al.   \n",
       "4045    185         2020-04-10            He, et al.   \n",
       "4046    186         2020-04-16       Minetto, et al.   \n",
       "4047    187               2020          Tang, et al.   \n",
       "4048    188               2020       Shujath, et al.   \n",
       "\n",
       "                                                  title  \\\n",
       "0     Remdesivir induced viral RNA and subgenomic RN...   \n",
       "1          Influenza, Measles, SARS, MERS, and Smallpox   \n",
       "2     Estimating the Impact of Daily Weather on the ...   \n",
       "3     Middle East respiratory syndrome coronavirus i...   \n",
       "4     Household secondary attack rate of COVID-19 an...   \n",
       "5     Revealing COVID-19 transmission in Australia b...   \n",
       "6     [Challenges and countermeasures on Chinese mal...   \n",
       "7     Current trends and future prediction of novel ...   \n",
       "8     2019-nCoV acute respiratory disease, Australia...   \n",
       "9       COVID-19 Considerations in Pediatric Dentistry.   \n",
       "10    Epidemiological parameters of COVID-19 and its...   \n",
       "11    INFECTIONS IN PREGNANCY WITH COVID-19 AND OTHE...   \n",
       "12    Viricidal treatments for prevention of coronav...   \n",
       "13    Clinical Analysis of Neonates Born to Mothers ...   \n",
       "14    Transmission of MERS-coronavirus in household ...   \n",
       "15    Review of Non-Bacterial Infections in Respirat...   \n",
       "16    Study of amniotic fluid in pregnant women infe...   \n",
       "17    [Epidemiological study design of asymptomatic ...   \n",
       "18    Animals and SARS-CoV-2: Species susceptibility...   \n",
       "19    Do Animals Play a Role in the Transmission of ...   \n",
       "20    A preliminary study on contact tracing & trans...   \n",
       "21     Unraveling the drivers of MERS-CoV transmission.   \n",
       "22    Loopholes in Current Infection Control and Pre...   \n",
       "23    Dysregulation of the immune system as a driver...   \n",
       "24    COVID-19, Australia: Epidemiology Report 2 (Re...   \n",
       "25    COVID-19: Generate and apply local modelled Tr...   \n",
       "26    [Contagiousness and secondary attack rate of 2...   \n",
       "27    Rapid, point-of-care antigen and molecular-bas...   \n",
       "28    [Fitting and forecasting the trend of COVID-19...   \n",
       "29    Incidence and Case-Fatality Ratio of COVID-19 ...   \n",
       "...                                                 ...   \n",
       "4019  Severe acute respiratory syndrome (SARS) in ch...   \n",
       "4020    Can the summer temperature drop COVID-19 cases?   \n",
       "4021  RSI model: COVID-19 in Germany Alternating qua...   \n",
       "4022  Clinical characteristics and viral shedding ki...   \n",
       "4023  The Characteristics of Middle Eastern Respirat...   \n",
       "4024  Hepatic manifestations and impact of COVID-19 ...   \n",
       "4025  The performance of Mobile Cabin Hospital in co...   \n",
       "4026   Characteristics of COVID-19 infection in Beijing   \n",
       "4027  COVID-19 Outbreak at an Overnight Summer Schoo...   \n",
       "4028  Factors Associated with Positive SARS-CoV-2 Te...   \n",
       "4029  Evaluation of the Serologic Cross-Reactivity b...   \n",
       "4030  Quarantäne alleine oder in Kombination mit wei...   \n",
       "4031  The role of institutional trust in preventive ...   \n",
       "4032  Introduction of SARS in France, March–April, 2003   \n",
       "4033  Quarantine Measures for Coronavirus Disease 20...   \n",
       "4034  Optimizing Benefits of Testing Key Workers for...   \n",
       "4035  Declines in SARS-CoV-2 Transmission, Hospitali...   \n",
       "4036  Clinical features of COVID‐19 convalescent pat...   \n",
       "4037  A study on control of novel corona-virus (2019...   \n",
       "4038  Clinical Characteristics of Coronavirus Diseas...   \n",
       "4039  Multidisciplinary, three-dimensional and indiv...   \n",
       "4040  Effect of large-scale testing platform in prev...   \n",
       "4041  Is a 14-day quarantine period optimal for effe...   \n",
       "4042    A Social Network Model of the COVID-19 Pandemic   \n",
       "4043  Serial interval and time-varying reproduction ...   \n",
       "4044  EFFECTS OF QUARANTINE ON MENTAL HEALTH OF POPU...   \n",
       "4045  The clinical feature of silent infections of n...   \n",
       "4046  Measuring Human and Economic Activity from Sat...   \n",
       "4047  De-escalation by reversing the escalation with...   \n",
       "4048  Management of sars-cov-2 (Covid-19) infection ...   \n",
       "\n",
       "                                                excerpt         label  \n",
       "0     We conclude that these are likely to have aris...  transmission  \n",
       "1     Early case identification and strict infection...  transmission  \n",
       "2     Daily maximum (t(max)), minimum (t(min)), mean...  transmission  \n",
       "3     Data suggest the overcrowding, late recognitio...  transmission  \n",
       "4     We assessed the demographic determinants of tr...  transmission  \n",
       "5     We report that the prospective sequencing of s...  transmission  \n",
       "6     Due to the extensive spread and high transmiss...  transmission  \n",
       "7     Based on the current control measures, we prop...  transmission  \n",
       "8     It includes data on australian cases notified ...  transmission  \n",
       "9     Therefore, we need to beware of the symptoms a...  transmission  \n",
       "10    Backgroundthe natural history of disease in pa...  transmission  \n",
       "11    There have been no confirmed cases of intraute...  transmission  \n",
       "12    However, indirect transmission from inanimate ...  transmission  \n",
       "13    No evidence of vertical transmission was found...  transmission  \n",
       "14    Probable cases of secondary transmission were ...  transmission  \n",
       "15    Neuraminidase inhibitors for viral pneumonia h...  transmission  \n",
       "16    We present two cases of pregnant women with co...  transmission  \n",
       "17    Covid-19clinical cases are considered as the p...  transmission  \n",
       "18    To date, two potential cases of animal-to-huma...  transmission  \n",
       "19    A sars-cov-2 variant in the danish farmed mink...  transmission  \n",
       "20    A preliminary study on contact tracing & trans...  transmission  \n",
       "21    We estimate that 12% [95% credible interval (c...  transmission  \n",
       "22    Methods retrospective analysis of 2 cases of h...  transmission  \n",
       "23    The occurrence of virus transmission even in a...  transmission  \n",
       "24    It includes data on australian cases notified ...  transmission  \n",
       "25    To analyse case incidence, the latest values f...  transmission  \n",
       "26    The average number of contagiousness was 2.18 ...  transmission  \n",
       "27    Point-of-care antigen and molecular tests to d...  transmission  \n",
       "28    Methods: based on seir dynamic model, consider...  transmission  \n",
       "29    The aim of the study was to observe the incide...  transmission  \n",
       "...                                                 ...           ...  \n",
       "4019  The early and proper isolation of infected adu...    prevention  \n",
       "4020  Can the summer temperature drop covid-19 cases...    prevention  \n",
       "4021  Rsi model: covid-19 in germany alternating qua...    prevention  \n",
       "4022  The study included 20 family members of patien...    prevention  \n",
       "4023  Conclusion: it turned out to be the intensive ...    prevention  \n",
       "4024  The recommendations for those patients, in add...    prevention  \n",
       "4025  The epidemic first broke out in wuhan, where t...    prevention  \n",
       "4026  The measures to prevent transmission was very ...    prevention  \n",
       "4027  Mitigation plans that include prearrival quara...    prevention  \n",
       "4028  Consistent use of masks, social distancing, is...    prevention  \n",
       "4029  Importance current measures to prevent tgev fr...    prevention  \n",
       "4030  For example, the models estimated that quarant...    prevention  \n",
       "4031  A high uptake of 2019-ncov preventive measures...    prevention  \n",
       "4032  Timely detection, isolation of probable cases,...    prevention  \n",
       "4033  Quarantine measures for coronavirus disease 20...    prevention  \n",
       "4034  This potentially isolates/quarantines many sta...    prevention  \n",
       "4035  Declines in sars-cov-2 transmission, hospitali...    prevention  \n",
       "4036  Continuous quarantine and close follow‐up for ...    prevention  \n",
       "4037  Using the results and analyzing them, it was f...    prevention  \n",
       "4038  Conclusions: in light of the rapid spread of c...    prevention  \n",
       "4039  The mdt should make rounds of the quarantine w...    prevention  \n",
       "4040  Effect of large-scale testing platform in prev...    prevention  \n",
       "4041  An extension of the adult quarantine period to...    prevention  \n",
       "4042  Thus, preventing viral transmission by case is...    prevention  \n",
       "4043  It can be concluded that the low reproduction ...    prevention  \n",
       "4044  Effects of quarantine on mental health of popu...    prevention  \n",
       "4045  Our study indicated that traced the close cont...    prevention  \n",
       "4046  Measuring human and economic activity from sat...    prevention  \n",
       "4047  De-escalation by reversing the escalation with...    prevention  \n",
       "4048  Management of sars-cov-2 (covid-19) infection ...    prevention  \n",
       "\n",
       "[4049 rows x 6 columns]"
      ]
     },
     "execution_count": 12,
     "metadata": {},
     "output_type": "execute_result"
    }
   ],
   "source": [
    "covid_data = pd.concat([label_table[0],label_table[1],label_table[2],label_table[3],label_table[4]],axis = 0)\n",
    "covid_data.reset_index()"
   ]
  },
  {
   "cell_type": "code",
   "execution_count": 13,
   "metadata": {},
   "outputs": [
    {
     "data": {
      "text/html": [
       "<div>\n",
       "<style scoped>\n",
       "    .dataframe tbody tr th:only-of-type {\n",
       "        vertical-align: middle;\n",
       "    }\n",
       "\n",
       "    .dataframe tbody tr th {\n",
       "        vertical-align: top;\n",
       "    }\n",
       "\n",
       "    .dataframe thead th {\n",
       "        text-align: right;\n",
       "    }\n",
       "</style>\n",
       "<table border=\"1\" class=\"dataframe\">\n",
       "  <thead>\n",
       "    <tr style=\"text-align: right;\">\n",
       "      <th></th>\n",
       "      <th>pub_date</th>\n",
       "      <th>authors</th>\n",
       "      <th>title</th>\n",
       "      <th>excerpt</th>\n",
       "      <th>label</th>\n",
       "    </tr>\n",
       "  </thead>\n",
       "  <tbody>\n",
       "    <tr>\n",
       "      <th>1425</th>\n",
       "      <td>2020</td>\n",
       "      <td>Alhetheel, et al.</td>\n",
       "      <td>Assessment of Th1/Th2 cytokines among patients...</td>\n",
       "      <td>This study was conducted to assess the plasma ...</td>\n",
       "      <td>symptom</td>\n",
       "    </tr>\n",
       "    <tr>\n",
       "      <th>37</th>\n",
       "      <td>2020-06-15</td>\n",
       "      <td>Jeyabalan, et al.</td>\n",
       "      <td>Anesthesia for Cardiac Surgery during COVID-19...</td>\n",
       "      <td>Patients with covid-19 can progress from asymp...</td>\n",
       "      <td>symptom</td>\n",
       "    </tr>\n",
       "    <tr>\n",
       "      <th>17</th>\n",
       "      <td>2012-05-11</td>\n",
       "      <td>Benato, et al.</td>\n",
       "      <td>Respiratory diseases in rats</td>\n",
       "      <td>Medical treatment generally includes oxygen th...</td>\n",
       "      <td>treatment</td>\n",
       "    </tr>\n",
       "    <tr>\n",
       "      <th>210</th>\n",
       "      <td>2008-03-29</td>\n",
       "      <td>Gagneur, et al.</td>\n",
       "      <td>Materno-fetal transmission of human coronaviru...</td>\n",
       "      <td>Materno-fetal transmission of human coronaviru...</td>\n",
       "      <td>transmission</td>\n",
       "    </tr>\n",
       "    <tr>\n",
       "      <th>1065</th>\n",
       "      <td>2020</td>\n",
       "      <td>Baggett, et al.</td>\n",
       "      <td>Addressing COVID-19 Among People Experiencing ...</td>\n",
       "      <td>Components included symptom screening at shelt...</td>\n",
       "      <td>symptom</td>\n",
       "    </tr>\n",
       "    <tr>\n",
       "      <th>796</th>\n",
       "      <td>2020</td>\n",
       "      <td>Gupta, et al.</td>\n",
       "      <td>Management and outcomes of patients hospitaliz...</td>\n",
       "      <td>Management and outcomes of patients hospitaliz...</td>\n",
       "      <td>treatment</td>\n",
       "    </tr>\n",
       "    <tr>\n",
       "      <th>2384</th>\n",
       "      <td>2020-09-01</td>\n",
       "      <td>Zhou, et al.</td>\n",
       "      <td>Clinical and imaging findings of discharged pa...</td>\n",
       "      <td>The incidence of asymptomatic cases in the pos...</td>\n",
       "      <td>symptom</td>\n",
       "    </tr>\n",
       "    <tr>\n",
       "      <th>1554</th>\n",
       "      <td>2020</td>\n",
       "      <td>Shental, et al.</td>\n",
       "      <td>Efficient high-throughput SARS-CoV-2 testing t...</td>\n",
       "      <td>Efficient high-throughput sars-cov-2 testing t...</td>\n",
       "      <td>symptom</td>\n",
       "    </tr>\n",
       "    <tr>\n",
       "      <th>1717</th>\n",
       "      <td>2020</td>\n",
       "      <td>Franczuk, et al.</td>\n",
       "      <td>Spirometry during the SARS-CoV-2 pandemic. Gui...</td>\n",
       "      <td>According to current knowledge, the source of ...</td>\n",
       "      <td>symptom</td>\n",
       "    </tr>\n",
       "    <tr>\n",
       "      <th>426</th>\n",
       "      <td>2020</td>\n",
       "      <td>de et al.</td>\n",
       "      <td>Impact of the coronavirus disease 2019 pandemi...</td>\n",
       "      <td>Impact of the coronavirus disease 2019 pandemi...</td>\n",
       "      <td>treatment</td>\n",
       "    </tr>\n",
       "    <tr>\n",
       "      <th>1536</th>\n",
       "      <td>2020</td>\n",
       "      <td>Kassem, et al.</td>\n",
       "      <td>SARS-CoV-2 infection among healthcare workers ...</td>\n",
       "      <td>Frequency of positive tests was more among sub...</td>\n",
       "      <td>symptom</td>\n",
       "    </tr>\n",
       "    <tr>\n",
       "      <th>1034</th>\n",
       "      <td>2020</td>\n",
       "      <td>Khan, et al.</td>\n",
       "      <td>COVID-19: A Worldwide, Zoonotic, Pandemic Outb...</td>\n",
       "      <td>Researchers have been examining human-to-human...</td>\n",
       "      <td>symptom</td>\n",
       "    </tr>\n",
       "    <tr>\n",
       "      <th>1049</th>\n",
       "      <td>2011-03-15</td>\n",
       "      <td>Smuts, et al.</td>\n",
       "      <td>Human rhinovirus infection in young African ch...</td>\n",
       "      <td>Most illness was managed with ambulatory thera...</td>\n",
       "      <td>treatment</td>\n",
       "    </tr>\n",
       "    <tr>\n",
       "      <th>666</th>\n",
       "      <td>2020</td>\n",
       "      <td>Kang, et al.</td>\n",
       "      <td>Operating Protocols of a Community Treatment C...</td>\n",
       "      <td>During the covid-19 pandemic, communities need...</td>\n",
       "      <td>symptom</td>\n",
       "    </tr>\n",
       "    <tr>\n",
       "      <th>351</th>\n",
       "      <td>2020</td>\n",
       "      <td>Lamptey, et al.</td>\n",
       "      <td>Glucovigilance in COVID-19</td>\n",
       "      <td>We put a spotlight on investigational new drug...</td>\n",
       "      <td>treatment</td>\n",
       "    </tr>\n",
       "    <tr>\n",
       "      <th>1889</th>\n",
       "      <td>2009-04-16</td>\n",
       "      <td>Stipp, et al.</td>\n",
       "      <td>Frequency of BCoV detection by a semi-nested P...</td>\n",
       "      <td>The specific bcov amplicon was detected in 15....</td>\n",
       "      <td>symptom</td>\n",
       "    </tr>\n",
       "    <tr>\n",
       "      <th>180</th>\n",
       "      <td>2020-07-23</td>\n",
       "      <td>Garrone, et al.</td>\n",
       "      <td>Treating patients with cancer amidst the COVID...</td>\n",
       "      <td>Conclusion the management of patients with can...</td>\n",
       "      <td>treatment</td>\n",
       "    </tr>\n",
       "    <tr>\n",
       "      <th>165</th>\n",
       "      <td>2020-07-28</td>\n",
       "      <td>Li, et al.</td>\n",
       "      <td>The performance of Mobile Cabin Hospital in co...</td>\n",
       "      <td>The epidemic first broke out in wuhan, where t...</td>\n",
       "      <td>prevention</td>\n",
       "    </tr>\n",
       "    <tr>\n",
       "      <th>848</th>\n",
       "      <td>2020</td>\n",
       "      <td>Choe, et al.</td>\n",
       "      <td>Selecting coronavirus disease 2019 patients wi...</td>\n",
       "      <td>Of 113 patients, 54 (47.8%) were asymptomatic ...</td>\n",
       "      <td>symptom</td>\n",
       "    </tr>\n",
       "    <tr>\n",
       "      <th>83</th>\n",
       "      <td>2020-12-08</td>\n",
       "      <td>Wang, et al.</td>\n",
       "      <td>Epidemiological characteristics and transmissi...</td>\n",
       "      <td>The proportion of severe and critical cases in...</td>\n",
       "      <td>symptom</td>\n",
       "    </tr>\n",
       "  </tbody>\n",
       "</table>\n",
       "</div>"
      ],
      "text/plain": [
       "        pub_date            authors  \\\n",
       "1425        2020  Alhetheel, et al.   \n",
       "37    2020-06-15  Jeyabalan, et al.   \n",
       "17    2012-05-11     Benato, et al.   \n",
       "210   2008-03-29    Gagneur, et al.   \n",
       "1065        2020    Baggett, et al.   \n",
       "796         2020      Gupta, et al.   \n",
       "2384  2020-09-01       Zhou, et al.   \n",
       "1554        2020    Shental, et al.   \n",
       "1717        2020   Franczuk, et al.   \n",
       "426         2020          de et al.   \n",
       "1536        2020     Kassem, et al.   \n",
       "1034        2020       Khan, et al.   \n",
       "1049  2011-03-15      Smuts, et al.   \n",
       "666         2020       Kang, et al.   \n",
       "351         2020    Lamptey, et al.   \n",
       "1889  2009-04-16      Stipp, et al.   \n",
       "180   2020-07-23    Garrone, et al.   \n",
       "165   2020-07-28         Li, et al.   \n",
       "848         2020       Choe, et al.   \n",
       "83    2020-12-08       Wang, et al.   \n",
       "\n",
       "                                                  title  \\\n",
       "1425  Assessment of Th1/Th2 cytokines among patients...   \n",
       "37    Anesthesia for Cardiac Surgery during COVID-19...   \n",
       "17                         Respiratory diseases in rats   \n",
       "210   Materno-fetal transmission of human coronaviru...   \n",
       "1065  Addressing COVID-19 Among People Experiencing ...   \n",
       "796   Management and outcomes of patients hospitaliz...   \n",
       "2384  Clinical and imaging findings of discharged pa...   \n",
       "1554  Efficient high-throughput SARS-CoV-2 testing t...   \n",
       "1717  Spirometry during the SARS-CoV-2 pandemic. Gui...   \n",
       "426   Impact of the coronavirus disease 2019 pandemi...   \n",
       "1536  SARS-CoV-2 infection among healthcare workers ...   \n",
       "1034  COVID-19: A Worldwide, Zoonotic, Pandemic Outb...   \n",
       "1049  Human rhinovirus infection in young African ch...   \n",
       "666   Operating Protocols of a Community Treatment C...   \n",
       "351                          Glucovigilance in COVID-19   \n",
       "1889  Frequency of BCoV detection by a semi-nested P...   \n",
       "180   Treating patients with cancer amidst the COVID...   \n",
       "165   The performance of Mobile Cabin Hospital in co...   \n",
       "848   Selecting coronavirus disease 2019 patients wi...   \n",
       "83    Epidemiological characteristics and transmissi...   \n",
       "\n",
       "                                                excerpt         label  \n",
       "1425  This study was conducted to assess the plasma ...       symptom  \n",
       "37    Patients with covid-19 can progress from asymp...       symptom  \n",
       "17    Medical treatment generally includes oxygen th...     treatment  \n",
       "210   Materno-fetal transmission of human coronaviru...  transmission  \n",
       "1065  Components included symptom screening at shelt...       symptom  \n",
       "796   Management and outcomes of patients hospitaliz...     treatment  \n",
       "2384  The incidence of asymptomatic cases in the pos...       symptom  \n",
       "1554  Efficient high-throughput sars-cov-2 testing t...       symptom  \n",
       "1717  According to current knowledge, the source of ...       symptom  \n",
       "426   Impact of the coronavirus disease 2019 pandemi...     treatment  \n",
       "1536  Frequency of positive tests was more among sub...       symptom  \n",
       "1034  Researchers have been examining human-to-human...       symptom  \n",
       "1049  Most illness was managed with ambulatory thera...     treatment  \n",
       "666   During the covid-19 pandemic, communities need...       symptom  \n",
       "351   We put a spotlight on investigational new drug...     treatment  \n",
       "1889  The specific bcov amplicon was detected in 15....       symptom  \n",
       "180   Conclusion the management of patients with can...     treatment  \n",
       "165   The epidemic first broke out in wuhan, where t...    prevention  \n",
       "848   Of 113 patients, 54 (47.8%) were asymptomatic ...       symptom  \n",
       "83    The proportion of severe and critical cases in...       symptom  "
      ]
     },
     "execution_count": 13,
     "metadata": {},
     "output_type": "execute_result"
    }
   ],
   "source": [
    "covid_data.sample(20)"
   ]
  },
  {
   "cell_type": "code",
   "execution_count": 14,
   "metadata": {},
   "outputs": [
    {
     "data": {
      "text/plain": [
       "symptom         2464\n",
       "treatment       1149\n",
       "transmission     239\n",
       "prevention       189\n",
       "health risk        8\n",
       "Name: label, dtype: int64"
      ]
     },
     "execution_count": 14,
     "metadata": {},
     "output_type": "execute_result"
    }
   ],
   "source": [
    "covid_data['label'].value_counts()"
   ]
  },
  {
   "cell_type": "code",
   "execution_count": 15,
   "metadata": {},
   "outputs": [],
   "source": [
    "import preprocessor as tp"
   ]
  },
  {
   "cell_type": "code",
   "execution_count": 16,
   "metadata": {},
   "outputs": [],
   "source": [
    "#!pip install tweet-preprocessor"
   ]
  },
  {
   "cell_type": "code",
   "execution_count": 17,
   "metadata": {},
   "outputs": [],
   "source": [
    "#remove stop words and further processing\n",
    "def stopword_remover_ex(row):\n",
    "    text = row['excerpt']\n",
    "    text = remove_stopwords(text)\n",
    "    return text   "
   ]
  },
  {
   "cell_type": "code",
   "execution_count": 18,
   "metadata": {},
   "outputs": [],
   "source": [
    "covid_data['excerpt'] = covid_data.apply(stopword_remover_ex,axis = 1)\n",
    "covid_data['excerpt'] = covid_data['excerpt'].str.lower().str.strip()"
   ]
  },
  {
   "cell_type": "markdown",
   "metadata": {},
   "source": [
    "### Processing tweet data"
   ]
  },
  {
   "cell_type": "code",
   "execution_count": 19,
   "metadata": {},
   "outputs": [],
   "source": [
    "tweet_data = pd.read_csv('C:/Users/Sammy/OneDrive/Documents/tweets.csv')"
   ]
  },
  {
   "cell_type": "code",
   "execution_count": 20,
   "metadata": {},
   "outputs": [
    {
     "name": "stdout",
     "output_type": "stream",
     "text": [
      "                                                text         label\n",
      "0  The question we need urgent answer to is how l...  transmission\n",
      "1  it takes like 2 weeks for symptoms to start sh...       symptom\n",
      "2  Fort Bend County has a confirmed Coronavirus p...    prevention\n",
      "3  China confirms 170 deaths as coronavirus sprea...       symptom\n",
      "4  Excellent discussion from @PascalJabbourMD on ...   health risk\n"
     ]
    },
    {
     "data": {
      "text/plain": [
       "(374, 2)"
      ]
     },
     "execution_count": 20,
     "metadata": {},
     "output_type": "execute_result"
    }
   ],
   "source": [
    "print(tweet_data.head())\n",
    "tweet_data.shape"
   ]
  },
  {
   "cell_type": "code",
   "execution_count": 21,
   "metadata": {},
   "outputs": [
    {
     "data": {
      "text/plain": [
       "prevention      161\n",
       "transmission     84\n",
       "symptom          62\n",
       "treatment        53\n",
       "health risk      14\n",
       "Name: label, dtype: int64"
      ]
     },
     "execution_count": 21,
     "metadata": {},
     "output_type": "execute_result"
    }
   ],
   "source": [
    "tweet_data['label'].value_counts(normalize=False)"
   ]
  },
  {
   "cell_type": "code",
   "execution_count": 22,
   "metadata": {},
   "outputs": [
    {
     "data": {
      "text/plain": [
       "text     374\n",
       "label    374\n",
       "dtype: int64"
      ]
     },
     "execution_count": 22,
     "metadata": {},
     "output_type": "execute_result"
    }
   ],
   "source": [
    "tweet_data.count()"
   ]
  },
  {
   "cell_type": "code",
   "execution_count": 23,
   "metadata": {},
   "outputs": [],
   "source": [
    "tweet_data.drop_duplicates(inplace=True)\n",
    "tweet_data.dropna(inplace=True)"
   ]
  },
  {
   "cell_type": "code",
   "execution_count": 24,
   "metadata": {},
   "outputs": [
    {
     "data": {
      "text/plain": [
       "text     374\n",
       "label    374\n",
       "dtype: int64"
      ]
     },
     "execution_count": 24,
     "metadata": {},
     "output_type": "execute_result"
    }
   ],
   "source": [
    "tweet_data.count()"
   ]
  },
  {
   "cell_type": "code",
   "execution_count": 25,
   "metadata": {},
   "outputs": [
    {
     "data": {
      "text/html": [
       "<div>\n",
       "<style scoped>\n",
       "    .dataframe tbody tr th:only-of-type {\n",
       "        vertical-align: middle;\n",
       "    }\n",
       "\n",
       "    .dataframe tbody tr th {\n",
       "        vertical-align: top;\n",
       "    }\n",
       "\n",
       "    .dataframe thead th {\n",
       "        text-align: right;\n",
       "    }\n",
       "</style>\n",
       "<table border=\"1\" class=\"dataframe\">\n",
       "  <thead>\n",
       "    <tr style=\"text-align: right;\">\n",
       "      <th></th>\n",
       "      <th>text</th>\n",
       "      <th>label</th>\n",
       "    </tr>\n",
       "  </thead>\n",
       "  <tbody>\n",
       "    <tr>\n",
       "      <th>0</th>\n",
       "      <td>The question we need urgent answer to is how l...</td>\n",
       "      <td>transmission</td>\n",
       "    </tr>\n",
       "    <tr>\n",
       "      <th>1</th>\n",
       "      <td>it takes like 2 weeks for symptoms to start sh...</td>\n",
       "      <td>symptom</td>\n",
       "    </tr>\n",
       "    <tr>\n",
       "      <th>2</th>\n",
       "      <td>Fort Bend County has a confirmed Coronavirus p...</td>\n",
       "      <td>prevention</td>\n",
       "    </tr>\n",
       "    <tr>\n",
       "      <th>3</th>\n",
       "      <td>China confirms 170 deaths as coronavirus sprea...</td>\n",
       "      <td>symptom</td>\n",
       "    </tr>\n",
       "    <tr>\n",
       "      <th>4</th>\n",
       "      <td>Excellent discussion from @PascalJabbourMD on ...</td>\n",
       "      <td>health risk</td>\n",
       "    </tr>\n",
       "  </tbody>\n",
       "</table>\n",
       "</div>"
      ],
      "text/plain": [
       "                                                text         label\n",
       "0  The question we need urgent answer to is how l...  transmission\n",
       "1  it takes like 2 weeks for symptoms to start sh...       symptom\n",
       "2  Fort Bend County has a confirmed Coronavirus p...    prevention\n",
       "3  China confirms 170 deaths as coronavirus sprea...       symptom\n",
       "4  Excellent discussion from @PascalJabbourMD on ...   health risk"
      ]
     },
     "execution_count": 25,
     "metadata": {},
     "output_type": "execute_result"
    }
   ],
   "source": [
    "tweet_data.head()"
   ]
  },
  {
   "cell_type": "markdown",
   "metadata": {},
   "source": [
    "### Pre-process tweets"
   ]
  },
  {
   "cell_type": "code",
   "execution_count": 26,
   "metadata": {},
   "outputs": [],
   "source": [
    "def tweet_processor(row):\n",
    "    \n",
    "    tweet = row['text']\n",
    "    tweet = tp.clean(tweet)\n",
    "    \n",
    "    return tweet\n",
    "    "
   ]
  },
  {
   "cell_type": "code",
   "execution_count": 27,
   "metadata": {},
   "outputs": [],
   "source": [
    "tweet_data['text'] = tweet_data.apply(tweet_processor,axis = 1)"
   ]
  },
  {
   "cell_type": "code",
   "execution_count": 28,
   "metadata": {},
   "outputs": [
    {
     "data": {
      "text/html": [
       "<div>\n",
       "<style scoped>\n",
       "    .dataframe tbody tr th:only-of-type {\n",
       "        vertical-align: middle;\n",
       "    }\n",
       "\n",
       "    .dataframe tbody tr th {\n",
       "        vertical-align: top;\n",
       "    }\n",
       "\n",
       "    .dataframe thead th {\n",
       "        text-align: right;\n",
       "    }\n",
       "</style>\n",
       "<table border=\"1\" class=\"dataframe\">\n",
       "  <thead>\n",
       "    <tr style=\"text-align: right;\">\n",
       "      <th></th>\n",
       "      <th>text</th>\n",
       "      <th>label</th>\n",
       "    </tr>\n",
       "  </thead>\n",
       "  <tbody>\n",
       "    <tr>\n",
       "      <th>0</th>\n",
       "      <td>The question we need urgent answer to is how l...</td>\n",
       "      <td>transmission</td>\n",
       "    </tr>\n",
       "    <tr>\n",
       "      <th>1</th>\n",
       "      <td>it takes like weeks for symptoms to start show...</td>\n",
       "      <td>symptom</td>\n",
       "    </tr>\n",
       "    <tr>\n",
       "      <th>2</th>\n",
       "      <td>Fort Bend County has a confirmed Coronavirus p...</td>\n",
       "      <td>prevention</td>\n",
       "    </tr>\n",
       "    <tr>\n",
       "      <th>3</th>\n",
       "      <td>China confirms deaths as coronavirus spreads t...</td>\n",
       "      <td>symptom</td>\n",
       "    </tr>\n",
       "    <tr>\n",
       "      <th>4</th>\n",
       "      <td>Excellent discussion from on cases during</td>\n",
       "      <td>health risk</td>\n",
       "    </tr>\n",
       "  </tbody>\n",
       "</table>\n",
       "</div>"
      ],
      "text/plain": [
       "                                                text         label\n",
       "0  The question we need urgent answer to is how l...  transmission\n",
       "1  it takes like weeks for symptoms to start show...       symptom\n",
       "2  Fort Bend County has a confirmed Coronavirus p...    prevention\n",
       "3  China confirms deaths as coronavirus spreads t...       symptom\n",
       "4          Excellent discussion from on cases during   health risk"
      ]
     },
     "execution_count": 28,
     "metadata": {},
     "output_type": "execute_result"
    }
   ],
   "source": [
    "tweet_data.head()"
   ]
  },
  {
   "cell_type": "code",
   "execution_count": 29,
   "metadata": {},
   "outputs": [],
   "source": [
    "#remove stop words and further processing\n",
    "def stopword_remover(row):\n",
    "    text = row['text']\n",
    "    text = remove_stopwords(text)\n",
    "    return text   \n",
    "    "
   ]
  },
  {
   "cell_type": "code",
   "execution_count": 30,
   "metadata": {},
   "outputs": [],
   "source": [
    "tweet_data['text'] = tweet_data.apply(stopword_remover,axis = 1)"
   ]
  },
  {
   "cell_type": "code",
   "execution_count": 31,
   "metadata": {},
   "outputs": [],
   "source": [
    "tweet_data['text'] = tweet_data['text'].str.lower().str.strip()"
   ]
  },
  {
   "cell_type": "code",
   "execution_count": 32,
   "metadata": {},
   "outputs": [],
   "source": [
    "#tweet_data['text'].str.replace('[^\\w\\s]',' ').str.replace('\\s\\s+', ' ')"
   ]
  },
  {
   "cell_type": "markdown",
   "metadata": {},
   "source": [
    "####  Defining our base model"
   ]
  },
  {
   "cell_type": "code",
   "execution_count": 33,
   "metadata": {},
   "outputs": [],
   "source": [
    "from sklearn.model_selection import train_test_split"
   ]
  },
  {
   "cell_type": "code",
   "execution_count": 34,
   "metadata": {},
   "outputs": [],
   "source": [
    "tweet = tweet_data['text'].values\n",
    "y_label = tweet_data['label'].values"
   ]
  },
  {
   "cell_type": "code",
   "execution_count": 35,
   "metadata": {},
   "outputs": [],
   "source": [
    "tweet_train, tweet_test, tweet_y_train, tweet_y_test = train_test_split(tweet, y_label,test_size = 0.25, random_state = 42)"
   ]
  },
  {
   "cell_type": "code",
   "execution_count": 38,
   "metadata": {},
   "outputs": [],
   "source": [
    "from sklearn.feature_extraction.text import CountVectorizer"
   ]
  },
  {
   "cell_type": "code",
   "execution_count": 39,
   "metadata": {},
   "outputs": [],
   "source": [
    "vectorizer = CountVectorizer()\n",
    "vectorizer.fit(tweet_train)\n",
    "\n",
    "X_train = vectorizer.transform(tweet_train)\n",
    "X_test = vectorizer.transform(tweet_test)"
   ]
  },
  {
   "cell_type": "code",
   "execution_count": null,
   "metadata": {},
   "outputs": [],
   "source": [
    "len(tweet)\n",
    "#X_train"
   ]
  },
  {
   "cell_type": "code",
   "execution_count": 41,
   "metadata": {},
   "outputs": [],
   "source": [
    "# y_train = pd.factorize(tweet_y_train)\n",
    "# y_test = pd.factorize(tweet_y_test)"
   ]
  },
  {
   "cell_type": "code",
   "execution_count": 42,
   "metadata": {},
   "outputs": [],
   "source": [
    "from sklearn.linear_model import LogisticRegression\n",
    "from sklearn.metrics import confusion_matrix\n",
    "from sklearn.tree import DecisionTreeClassifier "
   ]
  },
  {
   "cell_type": "markdown",
   "metadata": {},
   "source": [
    "#### Decision tree classifier model"
   ]
  },
  {
   "cell_type": "code",
   "execution_count": 43,
   "metadata": {},
   "outputs": [
    {
     "name": "stdout",
     "output_type": "stream",
     "text": [
      "Accuracy: 0.39361702127659576\n"
     ]
    },
    {
     "data": {
      "text/plain": [
       "array([[ 0,  5,  0,  0,  0],\n",
       "       [ 0, 37,  0,  0,  0],\n",
       "       [ 0, 14,  0,  0,  0],\n",
       "       [ 0, 27,  0,  0,  0],\n",
       "       [ 0, 11,  0,  0,  0]], dtype=int64)"
      ]
     },
     "execution_count": 43,
     "metadata": {},
     "output_type": "execute_result"
    }
   ],
   "source": [
    "classifier = DecisionTreeClassifier(max_depth = 2)\n",
    "classifier.fit(X_train,tweet_y_train)\n",
    "score = classifier.score(X_test,tweet_y_test)\n",
    "print(\"Accuracy:\", score)\n",
    "\n",
    "predictions = classifier.predict(X_test) \n",
    "  \n",
    "# creating a confusion matrix \n",
    "cm = confusion_matrix(tweet_y_test, predictions) \n",
    "cm"
   ]
  },
  {
   "cell_type": "markdown",
   "metadata": {},
   "source": [
    "#### Logistic regression model"
   ]
  },
  {
   "cell_type": "code",
   "execution_count": 44,
   "metadata": {},
   "outputs": [
    {
     "name": "stdout",
     "output_type": "stream",
     "text": [
      "Accuracy: 0.5425531914893617\n"
     ]
    },
    {
     "data": {
      "text/plain": [
       "array([[ 0,  4,  0,  1,  0],\n",
       "       [ 0, 29,  4,  4,  0],\n",
       "       [ 0,  6,  5,  3,  0],\n",
       "       [ 0, 11,  2, 13,  1],\n",
       "       [ 0,  5,  0,  2,  4]], dtype=int64)"
      ]
     },
     "execution_count": 44,
     "metadata": {},
     "output_type": "execute_result"
    }
   ],
   "source": [
    "lr_classifier = LogisticRegression()\n",
    "lr_classifier.fit(X_train,tweet_y_train)\n",
    "lr_score = lr_classifier.score(X_test,tweet_y_test)\n",
    "print(\"Accuracy:\", lr_score)\n",
    "\n",
    "predictions = lr_classifier.predict(X_test) \n",
    "  \n",
    "# creating a confusion matrix \n",
    "lr_cm = confusion_matrix(tweet_y_test, predictions) \n",
    "lr_cm"
   ]
  },
  {
   "cell_type": "markdown",
   "metadata": {},
   "source": [
    "### Implementing BERT with keras"
   ]
  },
  {
   "cell_type": "code",
   "execution_count": 36,
   "metadata": {},
   "outputs": [],
   "source": [
    "import numpy as np\n",
    "import pandas as pd\n",
    "import tensorflow as tf\n",
    "import tensorflow_hub as hub\n",
    "import logging\n",
    "logging.basicConfig(level=logging.INFO)"
   ]
  },
  {
   "cell_type": "code",
   "execution_count": 37,
   "metadata": {},
   "outputs": [],
   "source": [
    "#!pip install wget\n",
    "#import wget"
   ]
  },
  {
   "cell_type": "code",
   "execution_count": 38,
   "metadata": {},
   "outputs": [],
   "source": [
    "# url = 'https://raw.githubusercontent.com/google-research/bert/master/tokenization.py'\n",
    "# filename = wget.download(url)"
   ]
  },
  {
   "cell_type": "code",
   "execution_count": 39,
   "metadata": {},
   "outputs": [
    {
     "name": "stderr",
     "output_type": "stream",
     "text": [
      "INFO:absl:Using C:\\Users\\Sammy\\AppData\\Local\\Temp\\tfhub_modules to cache modules.\n"
     ]
    }
   ],
   "source": [
    "model_url = 'https://tfhub.dev/tensorflow/bert_en_uncased_L-12_H-768_A-12/2'\n",
    "bert_layer = hub.KerasLayer(model_url, trainable=True)"
   ]
  },
  {
   "cell_type": "code",
   "execution_count": 40,
   "metadata": {},
   "outputs": [],
   "source": [
    "import tokenization"
   ]
  },
  {
   "cell_type": "code",
   "execution_count": 41,
   "metadata": {},
   "outputs": [],
   "source": [
    "vocabs_file = bert_layer.resolved_object.vocab_file.asset_path.numpy()\n",
    "do_lower_casing = bert_layer.resolved_object.do_lower_case.numpy()\n",
    "tokenizer = tokenization.FullTokenizer(vocabs_file, do_lower_casing)"
   ]
  },
  {
   "cell_type": "code",
   "execution_count": 42,
   "metadata": {},
   "outputs": [],
   "source": [
    "#sample tokens\n",
    "\n",
    "#note the output of this \n",
    "sentence = 'By defining the three metadata tokens created from the input data. token embeddings, position embeddings and sequence embeddings'\n",
    "output_text = tokenizer.tokenize(sentence)"
   ]
  },
  {
   "cell_type": "code",
   "execution_count": 43,
   "metadata": {},
   "outputs": [
    {
     "name": "stdout",
     "output_type": "stream",
     "text": [
      "['by', 'defining', 'the', 'three', 'metadata', 'token', '##s', 'created', 'from', 'the', 'input', 'data', '.', 'token', 'em', '##bed', '##ding', '##s', ',', 'position', 'em', '##bed', '##ding', '##s', 'and', 'sequence', 'em', '##bed', '##ding', '##s']\n"
     ]
    }
   ],
   "source": [
    "print(output_text)"
   ]
  },
  {
   "cell_type": "code",
   "execution_count": 44,
   "metadata": {},
   "outputs": [
    {
     "name": "stdout",
     "output_type": "stream",
     "text": [
      "[2011, 12854, 1996, 2093, 27425, 19204, 2015, 2580, 2013, 1996, 7953, 2951, 1012, 19204, 7861, 8270, 4667, 2015, 1010, 2597, 7861, 8270, 4667, 2015, 1998, 5537, 7861, 8270, 4667, 2015]\n"
     ]
    }
   ],
   "source": [
    "output_text = tokenizer.convert_tokens_to_ids(output_text)\n",
    "print(output_text)"
   ]
  },
  {
   "cell_type": "markdown",
   "metadata": {},
   "source": [
    "BERT uses an encoder. We define the bert_encoder function which processes the input sequence of the to the model. By defining the three metadata tokens created from the input data. token embeddings, position embeddings and sequence embeddings. we include the [CLS] token at the beginning of each sequence and [SEP] at the end of each sequence and between a pair of sequences. The maximum length of input is 512. for an input with length less than this we include the [PAD] token."
   ]
  },
  {
   "cell_type": "code",
   "execution_count": 45,
   "metadata": {},
   "outputs": [],
   "source": [
    "def bert_encoder(lines, tokenizer, max_len=512):\n",
    "    token_embeddings = []\n",
    "    mask_embeddings = []\n",
    "    segment_embeddings = []\n",
    "    \n",
    "    #tokenizing input sequences\n",
    "    for line in lines:\n",
    "        line = tokenizer.tokenize(line)\n",
    "            \n",
    "        line = line[:max_len-2]\n",
    "        input_seq = [\"[CLS]\"] + line + [\"[SEP]\"]\n",
    "        pad_len = max_len - len(input_seq)\n",
    "        \n",
    "        tokens = tokenizer.convert_tokens_to_ids(input_seq) + [0] * pad_len\n",
    "        pad_masks = [1] * len(input_seq) + [0] * pad_len\n",
    "        segments_id = [0] * max_len\n",
    "        \n",
    "        token_embeddings.append(tokens)\n",
    "        mask_embeddings.append(pad_masks)\n",
    "        segment_embeddings.append(segments_id)\n",
    "    \n",
    "    return np.array(token_embeddings), np.array(mask_embeddings), np.array(segment_embeddings)"
   ]
  },
  {
   "cell_type": "markdown",
   "metadata": {},
   "source": [
    "We build the Bert model using keras. We define the input layers, the output layers, dense and dropout layer."
   ]
  },
  {
   "cell_type": "code",
   "execution_count": 46,
   "metadata": {},
   "outputs": [],
   "source": [
    "\n",
    "def build_bert_model(bert_layer, max_len=512):\n",
    "    input_word_ids = tf.keras.Input(shape=(max_len,), dtype=tf.int32, name=\"input_word_ids\")\n",
    "    input_mask = tf.keras.Input(shape=(max_len,), dtype=tf.int32, name=\"input_mask\")\n",
    "    segment_ids = tf.keras.Input(shape=(max_len,), dtype=tf.int32, name=\"segment_ids\")\n",
    "\n",
    "    pooled_output, sequence_output = bert_layer([input_word_ids, input_mask, segment_ids])\n",
    "    clf_output = sequence_output[:, 0, :]\n",
    "    net = tf.keras.layers.Dense(64, activation='relu')(clf_output)\n",
    "    net = tf.keras.layers.Dropout(0.2)(net)\n",
    "    net = tf.keras.layers.Dense(32, activation='relu')(net)\n",
    "    net = tf.keras.layers.Dropout(0.2)(net)\n",
    "    out = tf.keras.layers.Dense(5, activation='softmax')(net)\n",
    "    \n",
    "    model = tf.keras.models.Model(inputs=[input_word_ids, input_mask, segment_ids], outputs=out)\n",
    "    model.compile(tf.keras.optimizers.Adam(lr=1e-5), loss='categorical_crossentropy', metrics=['accuracy'])\n",
    "    \n",
    "    return model"
   ]
  },
  {
   "cell_type": "code",
   "execution_count": 47,
   "metadata": {},
   "outputs": [
    {
     "name": "stdout",
     "output_type": "stream",
     "text": [
      "Counter({2: 124, 0: 57, 1: 48, 4: 42, 3: 9})\n"
     ]
    }
   ],
   "source": [
    "from collections import Counter\n",
    "tweet_y_train = pd.factorize(tweet_y_train)[0]\n",
    "tweet_y_test = pd.factorize(tweet_y_test)[0]\n",
    "print(Counter(tweet_y_train))"
   ]
  },
  {
   "cell_type": "code",
   "execution_count": 48,
   "metadata": {},
   "outputs": [],
   "source": [
    "max_len = 150\n",
    "train_input = bert_encoder(tweet_train, tokenizer, max_len=max_len)\n",
    "test_input = bert_encoder(tweet_test, tokenizer, max_len=max_len)\n",
    "train_labels = tf.keras.utils.to_categorical(tweet_y_train, num_classes=5)\n",
    "#test_labels = tf.keras.utils.to_categorical(tweet_y_test, num_classes=5)"
   ]
  },
  {
   "cell_type": "code",
   "execution_count": 49,
   "metadata": {},
   "outputs": [
    {
     "data": {
      "text/plain": [
       "array([[1., 0., 0., 0., 0.],\n",
       "       [1., 0., 0., 0., 0.],\n",
       "       [0., 1., 0., 0., 0.],\n",
       "       ...,\n",
       "       [0., 0., 0., 0., 1.],\n",
       "       [0., 0., 1., 0., 0.],\n",
       "       [1., 0., 0., 0., 0.]], dtype=float32)"
      ]
     },
     "execution_count": 49,
     "metadata": {},
     "output_type": "execute_result"
    }
   ],
   "source": [
    "train_labels"
   ]
  },
  {
   "cell_type": "code",
   "execution_count": 50,
   "metadata": {
    "scrolled": true
   },
   "outputs": [
    {
     "name": "stdout",
     "output_type": "stream",
     "text": [
      "Model: \"model\"\n",
      "__________________________________________________________________________________________________\n",
      "Layer (type)                    Output Shape         Param #     Connected to                     \n",
      "==================================================================================================\n",
      "input_word_ids (InputLayer)     [(None, 150)]        0                                            \n",
      "__________________________________________________________________________________________________\n",
      "input_mask (InputLayer)         [(None, 150)]        0                                            \n",
      "__________________________________________________________________________________________________\n",
      "segment_ids (InputLayer)        [(None, 150)]        0                                            \n",
      "__________________________________________________________________________________________________\n",
      "keras_layer (KerasLayer)        [(None, 768), (None, 109482241   input_word_ids[0][0]             \n",
      "                                                                 input_mask[0][0]                 \n",
      "                                                                 segment_ids[0][0]                \n",
      "__________________________________________________________________________________________________\n",
      "tf.__operators__.getitem (Slici (None, 768)          0           keras_layer[0][1]                \n",
      "__________________________________________________________________________________________________\n",
      "dense (Dense)                   (None, 64)           49216       tf.__operators__.getitem[0][0]   \n",
      "__________________________________________________________________________________________________\n",
      "dropout (Dropout)               (None, 64)           0           dense[0][0]                      \n",
      "__________________________________________________________________________________________________\n",
      "dense_1 (Dense)                 (None, 32)           2080        dropout[0][0]                    \n",
      "__________________________________________________________________________________________________\n",
      "dropout_1 (Dropout)             (None, 32)           0           dense_1[0][0]                    \n",
      "__________________________________________________________________________________________________\n",
      "dense_2 (Dense)                 (None, 5)            165         dropout_1[0][0]                  \n",
      "==================================================================================================\n",
      "Total params: 109,533,702\n",
      "Trainable params: 109,533,701\n",
      "Non-trainable params: 1\n",
      "__________________________________________________________________________________________________\n"
     ]
    }
   ],
   "source": [
    "model = build_bert_model(bert_layer, max_len=max_len)\n",
    "model.summary()"
   ]
  },
  {
   "cell_type": "code",
   "execution_count": 51,
   "metadata": {},
   "outputs": [
    {
     "data": {
      "image/png": "[encoded data removed]",
      "text/plain": [
       "<IPython.core.display.Image object>"
      ]
     },
     "execution_count": 51,
     "metadata": {},
     "output_type": "execute_result"
    }
   ],
   "source": [
    "tf.keras.utils.plot_model(model, \"my_bert_model.png\")"
   ]
  },
  {
   "cell_type": "code",
   "execution_count": 104,
   "metadata": {},
   "outputs": [
    {
     "name": "stdout",
     "output_type": "stream",
     "text": [
      "class weights [0.98245614 1.16666667 0.4516129  6.22222222 1.33333333]\n"
     ]
    },
    {
     "name": "stderr",
     "output_type": "stream",
     "text": [
      "C:\\Users\\Sammy\\Anaconda3\\lib\\site-packages\\sklearn\\utils\\validation.py:72: FutureWarning: Pass classes=[0 1 2 3 4], y=[0 0 1 2 1 0 2 3 0 2 2 3 4 2 2 2 2 1 4 2 2 4 2 0 0 4 1 4 0 0 2 1 4 1 0 1 2\n",
      " 4 2 1 2 2 4 0 2 2 2 4 2 2 1 2 2 3 2 1 1 3 2 0 2 2 2 2 2 0 2 0 4 1 2 4 0 0\n",
      " 2 0 1 2 2 2 2 1 1 0 1 4 1 2 4 4 2 2 4 0 1 2 2 2 4 2 2 2 2 2 3 1 1 1 2 2 0\n",
      " 1 1 4 2 1 3 4 0 0 2 4 2 4 2 4 0 0 0 1 2 2 0 0 2 4 0 1 1 2 2 1 4 1 0 2 2 2\n",
      " 2 4 2 2 0 4 2 2 2 2 1 1 4 2 4 4 2 3 2 2 2 1 2 0 4 2 2 2 2 4 2 2 2 2 2 1 2\n",
      " 0 2 3 2 2 2 4 1 2 1 0 4 0 2 2 2 0 0 4 2 0 2 2 1 4 1 0 2 4 0 2 0 0 0 2 1 4\n",
      " 2 3 2 0 4 4 2 2 2 0 2 4 2 0 1 2 2 0 0 2 2 1 0 0 0 2 2 2 0 0 4 1 2 0 2 1 1\n",
      " 2 2 2 2 2 1 1 1 4 1 0 0 2 0 1 2 2 0 4 2 0] as keyword args. From version 1.0 (renaming of 0.25) passing these as positional arguments will result in an error\n",
      "  \"will result in an error\", FutureWarning)\n"
     ]
    },
    {
     "data": {
      "text/plain": [
       "{0: 0.9824561403508771,\n",
       " 1: 1.1666666666666667,\n",
       " 2: 0.45161290322580644,\n",
       " 3: 6.222222222222222,\n",
       " 4: 1.3333333333333333}"
      ]
     },
     "execution_count": 104,
     "metadata": {},
     "output_type": "execute_result"
    }
   ],
   "source": [
    "#computing the class weights due to class imbalance\n",
    "\n",
    "from sklearn.utils.class_weight import compute_class_weight\n",
    "\n",
    "weights = compute_class_weight('balanced',np.unique(tweet_y_train),tweet_y_train)\n",
    "\n",
    "print('class weights {}'.format(weights))\n",
    "\n",
    "weight_dict = dict(enumerate(weights))\n",
    "weight_dict\n"
   ]
  },
  {
   "cell_type": "code",
   "execution_count": 132,
   "metadata": {},
   "outputs": [
    {
     "name": "stdout",
     "output_type": "stream",
     "text": [
      "Epoch 1/20\n"
     ]
    },
    {
     "ename": "KeyboardInterrupt",
     "evalue": "",
     "output_type": "error",
     "traceback": [
      "\u001b[1;31m---------------------------------------------------------------------------\u001b[0m",
      "\u001b[1;31mKeyboardInterrupt\u001b[0m                         Traceback (most recent call last)",
      "\u001b[1;32m<ipython-input-132-40dfbb9da0b6>\u001b[0m in \u001b[0;36m<module>\u001b[1;34m()\u001b[0m\n\u001b[0;32m      9\u001b[0m     \u001b[0mbatch_size\u001b[0m\u001b[1;33m=\u001b[0m\u001b[1;36m32\u001b[0m\u001b[1;33m,\u001b[0m\u001b[1;33m\u001b[0m\u001b[0m\n\u001b[0;32m     10\u001b[0m     \u001b[0mverbose\u001b[0m\u001b[1;33m=\u001b[0m\u001b[1;36m1\u001b[0m\u001b[1;33m,\u001b[0m\u001b[1;33m\u001b[0m\u001b[0m\n\u001b[1;32m---> 11\u001b[1;33m     \u001b[0mclass_weight\u001b[0m \u001b[1;33m=\u001b[0m \u001b[0mweight_dict\u001b[0m\u001b[1;33m\u001b[0m\u001b[0m\n\u001b[0m\u001b[0;32m     12\u001b[0m )\n",
      "\u001b[1;32m~\\AppData\\Roaming\\Python\\Python36\\site-packages\\tensorflow\\python\\keras\\engine\\training.py\u001b[0m in \u001b[0;36mfit\u001b[1;34m(self, x, y, batch_size, epochs, verbose, callbacks, validation_split, validation_data, shuffle, class_weight, sample_weight, initial_epoch, steps_per_epoch, validation_steps, validation_batch_size, validation_freq, max_queue_size, workers, use_multiprocessing)\u001b[0m\n\u001b[0;32m   1098\u001b[0m                 _r=1):\n\u001b[0;32m   1099\u001b[0m               \u001b[0mcallbacks\u001b[0m\u001b[1;33m.\u001b[0m\u001b[0mon_train_batch_begin\u001b[0m\u001b[1;33m(\u001b[0m\u001b[0mstep\u001b[0m\u001b[1;33m)\u001b[0m\u001b[1;33m\u001b[0m\u001b[0m\n\u001b[1;32m-> 1100\u001b[1;33m               \u001b[0mtmp_logs\u001b[0m \u001b[1;33m=\u001b[0m \u001b[0mself\u001b[0m\u001b[1;33m.\u001b[0m\u001b[0mtrain_function\u001b[0m\u001b[1;33m(\u001b[0m\u001b[0miterator\u001b[0m\u001b[1;33m)\u001b[0m\u001b[1;33m\u001b[0m\u001b[0m\n\u001b[0m\u001b[0;32m   1101\u001b[0m               \u001b[1;32mif\u001b[0m \u001b[0mdata_handler\u001b[0m\u001b[1;33m.\u001b[0m\u001b[0mshould_sync\u001b[0m\u001b[1;33m:\u001b[0m\u001b[1;33m\u001b[0m\u001b[0m\n\u001b[0;32m   1102\u001b[0m                 \u001b[0mcontext\u001b[0m\u001b[1;33m.\u001b[0m\u001b[0masync_wait\u001b[0m\u001b[1;33m(\u001b[0m\u001b[1;33m)\u001b[0m\u001b[1;33m\u001b[0m\u001b[0m\n",
      "\u001b[1;32m~\\AppData\\Roaming\\Python\\Python36\\site-packages\\tensorflow\\python\\eager\\def_function.py\u001b[0m in \u001b[0;36m__call__\u001b[1;34m(self, *args, **kwds)\u001b[0m\n\u001b[0;32m    826\u001b[0m     \u001b[0mtracing_count\u001b[0m \u001b[1;33m=\u001b[0m \u001b[0mself\u001b[0m\u001b[1;33m.\u001b[0m\u001b[0mexperimental_get_tracing_count\u001b[0m\u001b[1;33m(\u001b[0m\u001b[1;33m)\u001b[0m\u001b[1;33m\u001b[0m\u001b[0m\n\u001b[0;32m    827\u001b[0m     \u001b[1;32mwith\u001b[0m \u001b[0mtrace\u001b[0m\u001b[1;33m.\u001b[0m\u001b[0mTrace\u001b[0m\u001b[1;33m(\u001b[0m\u001b[0mself\u001b[0m\u001b[1;33m.\u001b[0m\u001b[0m_name\u001b[0m\u001b[1;33m)\u001b[0m \u001b[1;32mas\u001b[0m \u001b[0mtm\u001b[0m\u001b[1;33m:\u001b[0m\u001b[1;33m\u001b[0m\u001b[0m\n\u001b[1;32m--> 828\u001b[1;33m       \u001b[0mresult\u001b[0m \u001b[1;33m=\u001b[0m \u001b[0mself\u001b[0m\u001b[1;33m.\u001b[0m\u001b[0m_call\u001b[0m\u001b[1;33m(\u001b[0m\u001b[1;33m*\u001b[0m\u001b[0margs\u001b[0m\u001b[1;33m,\u001b[0m \u001b[1;33m**\u001b[0m\u001b[0mkwds\u001b[0m\u001b[1;33m)\u001b[0m\u001b[1;33m\u001b[0m\u001b[0m\n\u001b[0m\u001b[0;32m    829\u001b[0m       \u001b[0mcompiler\u001b[0m \u001b[1;33m=\u001b[0m \u001b[1;34m\"xla\"\u001b[0m \u001b[1;32mif\u001b[0m \u001b[0mself\u001b[0m\u001b[1;33m.\u001b[0m\u001b[0m_experimental_compile\u001b[0m \u001b[1;32melse\u001b[0m \u001b[1;34m\"nonXla\"\u001b[0m\u001b[1;33m\u001b[0m\u001b[0m\n\u001b[0;32m    830\u001b[0m       \u001b[0mnew_tracing_count\u001b[0m \u001b[1;33m=\u001b[0m \u001b[0mself\u001b[0m\u001b[1;33m.\u001b[0m\u001b[0mexperimental_get_tracing_count\u001b[0m\u001b[1;33m(\u001b[0m\u001b[1;33m)\u001b[0m\u001b[1;33m\u001b[0m\u001b[0m\n",
      "\u001b[1;32m~\\AppData\\Roaming\\Python\\Python36\\site-packages\\tensorflow\\python\\eager\\def_function.py\u001b[0m in \u001b[0;36m_call\u001b[1;34m(self, *args, **kwds)\u001b[0m\n\u001b[0;32m    853\u001b[0m       \u001b[1;31m# In this case we have created variables on the first call, so we run the\u001b[0m\u001b[1;33m\u001b[0m\u001b[1;33m\u001b[0m\u001b[0m\n\u001b[0;32m    854\u001b[0m       \u001b[1;31m# defunned version which is guaranteed to never create variables.\u001b[0m\u001b[1;33m\u001b[0m\u001b[1;33m\u001b[0m\u001b[0m\n\u001b[1;32m--> 855\u001b[1;33m       \u001b[1;32mreturn\u001b[0m \u001b[0mself\u001b[0m\u001b[1;33m.\u001b[0m\u001b[0m_stateless_fn\u001b[0m\u001b[1;33m(\u001b[0m\u001b[1;33m*\u001b[0m\u001b[0margs\u001b[0m\u001b[1;33m,\u001b[0m \u001b[1;33m**\u001b[0m\u001b[0mkwds\u001b[0m\u001b[1;33m)\u001b[0m  \u001b[1;31m# pylint: disable=not-callable\u001b[0m\u001b[1;33m\u001b[0m\u001b[0m\n\u001b[0m\u001b[0;32m    856\u001b[0m     \u001b[1;32melif\u001b[0m \u001b[0mself\u001b[0m\u001b[1;33m.\u001b[0m\u001b[0m_stateful_fn\u001b[0m \u001b[1;32mis\u001b[0m \u001b[1;32mnot\u001b[0m \u001b[1;32mNone\u001b[0m\u001b[1;33m:\u001b[0m\u001b[1;33m\u001b[0m\u001b[0m\n\u001b[0;32m    857\u001b[0m       \u001b[1;31m# Release the lock early so that multiple threads can perform the call\u001b[0m\u001b[1;33m\u001b[0m\u001b[1;33m\u001b[0m\u001b[0m\n",
      "\u001b[1;32m~\\AppData\\Roaming\\Python\\Python36\\site-packages\\tensorflow\\python\\eager\\function.py\u001b[0m in \u001b[0;36m__call__\u001b[1;34m(self, *args, **kwargs)\u001b[0m\n\u001b[0;32m   2941\u001b[0m        filtered_flat_args) = self._maybe_define_function(args, kwargs)\n\u001b[0;32m   2942\u001b[0m     return graph_function._call_flat(\n\u001b[1;32m-> 2943\u001b[1;33m         filtered_flat_args, captured_inputs=graph_function.captured_inputs)  # pylint: disable=protected-access\n\u001b[0m\u001b[0;32m   2944\u001b[0m \u001b[1;33m\u001b[0m\u001b[0m\n\u001b[0;32m   2945\u001b[0m   \u001b[1;33m@\u001b[0m\u001b[0mproperty\u001b[0m\u001b[1;33m\u001b[0m\u001b[0m\n",
      "\u001b[1;32m~\\AppData\\Roaming\\Python\\Python36\\site-packages\\tensorflow\\python\\eager\\function.py\u001b[0m in \u001b[0;36m_call_flat\u001b[1;34m(self, args, captured_inputs, cancellation_manager)\u001b[0m\n\u001b[0;32m   1917\u001b[0m       \u001b[1;31m# No tape is watching; skip to running the function.\u001b[0m\u001b[1;33m\u001b[0m\u001b[1;33m\u001b[0m\u001b[0m\n\u001b[0;32m   1918\u001b[0m       return self._build_call_outputs(self._inference_function.call(\n\u001b[1;32m-> 1919\u001b[1;33m           ctx, args, cancellation_manager=cancellation_manager))\n\u001b[0m\u001b[0;32m   1920\u001b[0m     forward_backward = self._select_forward_and_backward_functions(\n\u001b[0;32m   1921\u001b[0m         \u001b[0margs\u001b[0m\u001b[1;33m,\u001b[0m\u001b[1;33m\u001b[0m\u001b[0m\n",
      "\u001b[1;32m~\\AppData\\Roaming\\Python\\Python36\\site-packages\\tensorflow\\python\\eager\\function.py\u001b[0m in \u001b[0;36mcall\u001b[1;34m(self, ctx, args, cancellation_manager)\u001b[0m\n\u001b[0;32m    558\u001b[0m               \u001b[0minputs\u001b[0m\u001b[1;33m=\u001b[0m\u001b[0margs\u001b[0m\u001b[1;33m,\u001b[0m\u001b[1;33m\u001b[0m\u001b[0m\n\u001b[0;32m    559\u001b[0m               \u001b[0mattrs\u001b[0m\u001b[1;33m=\u001b[0m\u001b[0mattrs\u001b[0m\u001b[1;33m,\u001b[0m\u001b[1;33m\u001b[0m\u001b[0m\n\u001b[1;32m--> 560\u001b[1;33m               ctx=ctx)\n\u001b[0m\u001b[0;32m    561\u001b[0m         \u001b[1;32melse\u001b[0m\u001b[1;33m:\u001b[0m\u001b[1;33m\u001b[0m\u001b[0m\n\u001b[0;32m    562\u001b[0m           outputs = execute.execute_with_cancellation(\n",
      "\u001b[1;32m~\\AppData\\Roaming\\Python\\Python36\\site-packages\\tensorflow\\python\\eager\\execute.py\u001b[0m in \u001b[0;36mquick_execute\u001b[1;34m(op_name, num_outputs, inputs, attrs, ctx, name)\u001b[0m\n\u001b[0;32m     58\u001b[0m     \u001b[0mctx\u001b[0m\u001b[1;33m.\u001b[0m\u001b[0mensure_initialized\u001b[0m\u001b[1;33m(\u001b[0m\u001b[1;33m)\u001b[0m\u001b[1;33m\u001b[0m\u001b[0m\n\u001b[0;32m     59\u001b[0m     tensors = pywrap_tfe.TFE_Py_Execute(ctx._handle, device_name, op_name,\n\u001b[1;32m---> 60\u001b[1;33m                                         inputs, attrs, num_outputs)\n\u001b[0m\u001b[0;32m     61\u001b[0m   \u001b[1;32mexcept\u001b[0m \u001b[0mcore\u001b[0m\u001b[1;33m.\u001b[0m\u001b[0m_NotOkStatusException\u001b[0m \u001b[1;32mas\u001b[0m \u001b[0me\u001b[0m\u001b[1;33m:\u001b[0m\u001b[1;33m\u001b[0m\u001b[0m\n\u001b[0;32m     62\u001b[0m     \u001b[1;32mif\u001b[0m \u001b[0mname\u001b[0m \u001b[1;32mis\u001b[0m \u001b[1;32mnot\u001b[0m \u001b[1;32mNone\u001b[0m\u001b[1;33m:\u001b[0m\u001b[1;33m\u001b[0m\u001b[0m\n",
      "\u001b[1;31mKeyboardInterrupt\u001b[0m: "
     ]
    }
   ],
   "source": [
    "checkpoint = tf.keras.callbacks.ModelCheckpoint('model.h5', monitor='val_accuracy', save_best_only=True, verbose=1)\n",
    "earlystopping = tf.keras.callbacks.EarlyStopping(monitor='val_accuracy', patience=5, verbose=1)\n",
    "\n",
    "train_history = model.fit(\n",
    "    train_input, train_labels, \n",
    "    validation_split=0.2,\n",
    "    epochs=20,\n",
    "    callbacks=[checkpoint, earlystopping],\n",
    "    batch_size=32,\n",
    "    verbose=1,\n",
    "    class_weight = weight_dict\n",
    ")\n"
   ]
  },
  {
   "cell_type": "code",
   "execution_count": 112,
   "metadata": {},
   "outputs": [],
   "source": [
    "model.load_weights('model.h5')\n",
    "test_pred = model.predict(test_input)\n"
   ]
  },
  {
   "cell_type": "code",
   "execution_count": 130,
   "metadata": {},
   "outputs": [],
   "source": [
    "test_pred = np.argmax(test_pred, axis=1)\n",
    "test_labels = np.argmax(test_labels, axis=1)"
   ]
  },
  {
   "cell_type": "code",
   "execution_count": 129,
   "metadata": {},
   "outputs": [],
   "source": [
    "# loss, accuracy = model.evaluate(test_input, test_labels, verbose=1)\n",
    "# print(\"Test Accuracy:  {:.4f}\".format(accuracy))"
   ]
  },
  {
   "cell_type": "code",
   "execution_count": 128,
   "metadata": {},
   "outputs": [],
   "source": [
    "# loss, accuracy = model.evaluate(train_input, train_labels, verbose=1)\n",
    "# print(\"Train Accuracy: {:.4f}\".format(accuracy))"
   ]
  },
  {
   "cell_type": "code",
   "execution_count": 123,
   "metadata": {},
   "outputs": [
    {
     "name": "stdout",
     "output_type": "stream",
     "text": [
      "              precision    recall  f1-score   support\n",
      "\n",
      "           0       0.28      0.19      0.23        37\n",
      "           1       0.31      0.36      0.33        14\n",
      "           2       0.17      0.30      0.22        27\n",
      "           3       0.00      0.00      0.00        11\n",
      "           4       0.00      0.00      0.00         5\n",
      "\n",
      "    accuracy                           0.21        94\n",
      "   macro avg       0.15      0.17      0.16        94\n",
      "weighted avg       0.21      0.21      0.20        94\n",
      "\n"
     ]
    },
    {
     "name": "stderr",
     "output_type": "stream",
     "text": [
      "C:\\Users\\Sammy\\Anaconda3\\lib\\site-packages\\sklearn\\metrics\\_classification.py:1245: UndefinedMetricWarning: Precision and F-score are ill-defined and being set to 0.0 in labels with no predicted samples. Use `zero_division` parameter to control this behavior.\n",
      "  _warn_prf(average, modifier, msg_start, len(result))\n",
      "C:\\Users\\Sammy\\Anaconda3\\lib\\site-packages\\sklearn\\metrics\\_classification.py:1245: UndefinedMetricWarning: Precision and F-score are ill-defined and being set to 0.0 in labels with no predicted samples. Use `zero_division` parameter to control this behavior.\n",
      "  _warn_prf(average, modifier, msg_start, len(result))\n",
      "C:\\Users\\Sammy\\Anaconda3\\lib\\site-packages\\sklearn\\metrics\\_classification.py:1245: UndefinedMetricWarning: Precision and F-score are ill-defined and being set to 0.0 in labels with no predicted samples. Use `zero_division` parameter to control this behavior.\n",
      "  _warn_prf(average, modifier, msg_start, len(result))\n"
     ]
    }
   ],
   "source": [
    "from sklearn.metrics import classification_report\n",
    "print(classification_report(test_labels,test_pred))"
   ]
  },
  {
   "cell_type": "code",
   "execution_count": 125,
   "metadata": {},
   "outputs": [
    {
     "name": "stdout",
     "output_type": "stream",
     "text": [
      "dict_keys(['loss', 'accuracy', 'val_loss', 'val_accuracy'])\n"
     ]
    }
   ],
   "source": [
    "print(train_history.history.keys())"
   ]
  },
  {
   "cell_type": "code",
   "execution_count": 68,
   "metadata": {},
   "outputs": [],
   "source": [
    "import matplotlib.pyplot as plt\n",
    "plt.style.use('ggplot')\n",
    "\n",
    "def plot_history(train_history):\n",
    "    acc = train_history.history['accuracy']\n",
    "    val_acc = train_history.history['val_accuracy']\n",
    "    loss = train_history.history['loss']\n",
    "    val_loss = train_history.history['val_loss']\n",
    "    x = range(1, len(acc) + 1)\n",
    "\n",
    "    plt.figure(figsize=(12, 5))\n",
    "    plt.subplot(1, 2, 1)\n",
    "    plt.plot(x, acc, 'b', label='Training acc')\n",
    "    plt.plot(x, val_acc, 'r', label='Validation acc')\n",
    "    plt.title('Training and validation accuracy')\n",
    "    plt.legend()\n",
    "    plt.subplot(1, 2, 2)\n",
    "    plt.plot(x, loss, 'b', label='Training loss')\n",
    "    plt.plot(x, val_loss, 'r', label='Validation loss')\n",
    "    plt.title('Training and validation loss')\n",
    "    plt.legend()\n"
   ]
  },
  {
   "cell_type": "code",
   "execution_count": 127,
   "metadata": {},
   "outputs": [
    {
     "data": {
      "image/png": "[encoded data removed]",
      "text/plain": [
       "<Figure size 864x360 with 2 Axes>"
      ]
     },
     "metadata": {},
     "output_type": "display_data"
    }
   ],
   "source": [
    "plot_history(train_history)"
   ]
  },
  {
   "cell_type": "code",
   "execution_count": 131,
   "metadata": {},
   "outputs": [],
   "source": [
    "from tensorflow.keras.backend import clear_session\n",
    "clear_session()"
   ]
  },
  {
   "cell_type": "code",
   "execution_count": 107,
   "metadata": {},
   "outputs": [],
   "source": [
    "del model"
   ]
  },
  {
   "cell_type": "markdown",
   "metadata": {},
   "source": [
    "### BERT implementation with literature as training data"
   ]
  },
  {
   "cell_type": "code",
   "execution_count": 53,
   "metadata": {},
   "outputs": [],
   "source": [
    "text_train = covid_data['excerpt']\n",
    "text_y_train = covid_data['label']"
   ]
  },
  {
   "cell_type": "code",
   "execution_count": 54,
   "metadata": {},
   "outputs": [],
   "source": [
    "text_y_train = pd.factorize(text_y_train)[0]"
   ]
  },
  {
   "cell_type": "code",
   "execution_count": 55,
   "metadata": {},
   "outputs": [
    {
     "name": "stdout",
     "output_type": "stream",
     "text": [
      "class weights [  3.38828452   0.70478677   0.3286526  101.225        4.28465608]\n"
     ]
    },
    {
     "name": "stderr",
     "output_type": "stream",
     "text": [
      "C:\\Users\\Sammy\\Anaconda3\\lib\\site-packages\\sklearn\\utils\\validation.py:72: FutureWarning: Pass classes=[0 1 2 3 4], y=[0 0 0 ... 4 4 4] as keyword args. From version 1.0 (renaming of 0.25) passing these as positional arguments will result in an error\n",
      "  \"will result in an error\", FutureWarning)\n"
     ]
    },
    {
     "data": {
      "text/plain": [
       "{0: 3.388284518828452,\n",
       " 1: 0.704786771105309,\n",
       " 2: 0.3286525974025974,\n",
       " 3: 101.225,\n",
       " 4: 4.284656084656085}"
      ]
     },
     "execution_count": 55,
     "metadata": {},
     "output_type": "execute_result"
    }
   ],
   "source": [
    "#computing the class weights due to class imbalance\n",
    "\n",
    "from sklearn.utils.class_weight import compute_class_weight\n",
    "\n",
    "weights = compute_class_weight('balanced',np.unique(text_y_train),text_y_train)\n",
    "\n",
    "print('class weights {}'.format(weights))\n",
    "\n",
    "weight_dict = dict(enumerate(weights))\n",
    "weight_dict\n"
   ]
  },
  {
   "cell_type": "code",
   "execution_count": 56,
   "metadata": {},
   "outputs": [],
   "source": [
    "max_len = 100\n",
    "train_input = bert_encoder(text_train, tokenizer, max_len=max_len)\n",
    "test_input = bert_encoder(tweet_test, tokenizer, max_len=max_len)\n",
    "train_labels = tf.keras.utils.to_categorical(text_y_train, num_classes=5)\n",
    "#test_labels = tf.keras.utils.to_categorical(tweet_y_test, num_classes=5)"
   ]
  },
  {
   "cell_type": "code",
   "execution_count": 64,
   "metadata": {},
   "outputs": [],
   "source": [
    "test_labels = tf.keras.utils.to_categorical(tweet_y_test, num_classes=5)"
   ]
  },
  {
   "cell_type": "code",
   "execution_count": 57,
   "metadata": {},
   "outputs": [
    {
     "name": "stdout",
     "output_type": "stream",
     "text": [
      "Model: \"model_1\"\n",
      "__________________________________________________________________________________________________\n",
      "Layer (type)                    Output Shape         Param #     Connected to                     \n",
      "==================================================================================================\n",
      "input_word_ids (InputLayer)     [(None, 100)]        0                                            \n",
      "__________________________________________________________________________________________________\n",
      "input_mask (InputLayer)         [(None, 100)]        0                                            \n",
      "__________________________________________________________________________________________________\n",
      "segment_ids (InputLayer)        [(None, 100)]        0                                            \n",
      "__________________________________________________________________________________________________\n",
      "keras_layer (KerasLayer)        multiple             109482241   input_word_ids[0][0]             \n",
      "                                                                 input_mask[0][0]                 \n",
      "                                                                 segment_ids[0][0]                \n",
      "__________________________________________________________________________________________________\n",
      "tf.__operators__.getitem_1 (Sli (None, 768)          0           keras_layer[1][1]                \n",
      "__________________________________________________________________________________________________\n",
      "dense_3 (Dense)                 (None, 64)           49216       tf.__operators__.getitem_1[0][0] \n",
      "__________________________________________________________________________________________________\n",
      "dropout_2 (Dropout)             (None, 64)           0           dense_3[0][0]                    \n",
      "__________________________________________________________________________________________________\n",
      "dense_4 (Dense)                 (None, 32)           2080        dropout_2[0][0]                  \n",
      "__________________________________________________________________________________________________\n",
      "dropout_3 (Dropout)             (None, 32)           0           dense_4[0][0]                    \n",
      "__________________________________________________________________________________________________\n",
      "dense_5 (Dense)                 (None, 5)            165         dropout_3[0][0]                  \n",
      "==================================================================================================\n",
      "Total params: 109,533,702\n",
      "Trainable params: 109,533,701\n",
      "Non-trainable params: 1\n",
      "__________________________________________________________________________________________________\n"
     ]
    }
   ],
   "source": [
    "model2 = build_bert_model(bert_layer, max_len=max_len)\n",
    "model2.summary()"
   ]
  },
  {
   "cell_type": "code",
   "execution_count": 60,
   "metadata": {
    "scrolled": true
   },
   "outputs": [
    {
     "name": "stdout",
     "output_type": "stream",
     "text": [
      "Epoch 1/50\n",
      "102/102 [==============================] - 2468s 24s/step - loss: 0.3311 - accuracy: 0.9194 - val_loss: 1.5165 - val_accuracy: 0.7407\n",
      "\n",
      "Epoch 00001: val_accuracy improved from -inf to 0.74074, saving model to model_1.h5\n",
      "Epoch 2/50\n",
      "102/102 [==============================] - 2494s 24s/step - loss: 0.1820 - accuracy: 0.9321 - val_loss: 1.6864 - val_accuracy: 0.7346\n",
      "\n",
      "Epoch 00002: val_accuracy did not improve from 0.74074\n",
      "Epoch 3/50\n",
      "102/102 [==============================] - 2526s 25s/step - loss: 0.1192 - accuracy: 0.9562 - val_loss: 1.8487 - val_accuracy: 0.7198\n",
      "\n",
      "Epoch 00003: val_accuracy did not improve from 0.74074\n",
      "Epoch 4/50\n",
      "102/102 [==============================] - 2518s 25s/step - loss: 0.0932 - accuracy: 0.9630 - val_loss: 2.1726 - val_accuracy: 0.6963\n",
      "\n",
      "Epoch 00004: val_accuracy did not improve from 0.74074\n",
      "Epoch 5/50\n",
      "102/102 [==============================] - 2519s 25s/step - loss: 0.0791 - accuracy: 0.9691 - val_loss: 2.1267 - val_accuracy: 0.7420\n",
      "\n",
      "Epoch 00005: val_accuracy improved from 0.74074 to 0.74198, saving model to model_1.h5\n",
      "Epoch 6/50\n",
      "102/102 [==============================] - 2520s 25s/step - loss: 0.0610 - accuracy: 0.9778 - val_loss: 2.1837 - val_accuracy: 0.7469\n",
      "\n",
      "Epoch 00006: val_accuracy improved from 0.74198 to 0.74691, saving model to model_1.h5\n",
      "Epoch 7/50\n",
      "102/102 [==============================] - 2531s 25s/step - loss: 0.0480 - accuracy: 0.9830 - val_loss: 2.1464 - val_accuracy: 0.7494\n",
      "\n",
      "Epoch 00007: val_accuracy improved from 0.74691 to 0.74938, saving model to model_1.h5\n",
      "Epoch 8/50\n",
      "102/102 [==============================] - 2522s 25s/step - loss: 0.0519 - accuracy: 0.9815 - val_loss: 2.7963 - val_accuracy: 0.6840\n",
      "\n",
      "Epoch 00008: val_accuracy did not improve from 0.74938\n",
      "Epoch 9/50\n",
      "102/102 [==============================] - 2519s 25s/step - loss: 0.0544 - accuracy: 0.9793 - val_loss: 2.6793 - val_accuracy: 0.7185\n",
      "\n",
      "Epoch 00009: val_accuracy did not improve from 0.74938\n",
      "Epoch 10/50\n",
      "102/102 [==============================] - 2530s 25s/step - loss: 0.0570 - accuracy: 0.9821 - val_loss: 2.4431 - val_accuracy: 0.7432\n",
      "\n",
      "Epoch 00010: val_accuracy did not improve from 0.74938\n",
      "Epoch 11/50\n",
      "102/102 [==============================] - 2507s 25s/step - loss: 0.0327 - accuracy: 0.9877 - val_loss: 2.5691 - val_accuracy: 0.7432\n",
      "\n",
      "Epoch 00011: val_accuracy did not improve from 0.74938\n",
      "Epoch 12/50\n",
      "102/102 [==============================] - 2532s 25s/step - loss: 0.0383 - accuracy: 0.9858 - val_loss: 2.5783 - val_accuracy: 0.7469\n",
      "\n",
      "Epoch 00012: val_accuracy did not improve from 0.74938\n",
      "Epoch 00012: early stopping\n"
     ]
    }
   ],
   "source": [
    "checkpoint = tf.keras.callbacks.ModelCheckpoint('model_1.h5', monitor='val_accuracy', save_best_only=True, verbose=1)\n",
    "earlystopping = tf.keras.callbacks.EarlyStopping(monitor='val_accuracy', patience=5, verbose=1)\n",
    "\n",
    "train_history_lt = model2.fit(\n",
    "    train_input, train_labels, \n",
    "    validation_split=0.2,\n",
    "    epochs=50,\n",
    "    callbacks=[checkpoint, earlystopping],\n",
    "    batch_size=32,\n",
    "    verbose=1,\n",
    "    class_weight = weight_dict\n",
    "    \n",
    ")"
   ]
  },
  {
   "cell_type": "code",
   "execution_count": 61,
   "metadata": {},
   "outputs": [],
   "source": [
    "model2.load_weights('model_1.h5')\n",
    "test_pred = model2.predict(test_input)"
   ]
  },
  {
   "cell_type": "code",
   "execution_count": 62,
   "metadata": {},
   "outputs": [
    {
     "name": "stdout",
     "output_type": "stream",
     "text": [
      "3/3 [==============================] - 18s 6s/step - loss: 0.6657 - accuracy: 1.0000\n",
      "Testing Accuracy:  1.0000\n"
     ]
    }
   ],
   "source": [
    "# loss, accuracy = model2.evaluate(train_input, train_labels, verbose=1)\n",
    "# print(\"Training Accuracy: {:.4f}\".format(accuracy))\n",
    "loss, accuracy = model2.evaluate(test_input, test_pred, verbose=1)\n",
    "print(\"Testing Accuracy:  {:.4f}\".format(accuracy))"
   ]
  },
  {
   "cell_type": "code",
   "execution_count": 66,
   "metadata": {},
   "outputs": [],
   "source": [
    "test_pred = np.argmax(test_pred, axis=1)\n",
    "test_labels = np.argmax(test_labels, axis=1)"
   ]
  },
  {
   "cell_type": "code",
   "execution_count": 69,
   "metadata": {},
   "outputs": [
    {
     "name": "stdout",
     "output_type": "stream",
     "text": [
      "              precision    recall  f1-score   support\n",
      "\n",
      "           0       0.39      0.30      0.34        37\n",
      "           1       0.18      0.43      0.25        14\n",
      "           2       0.28      0.33      0.31        27\n",
      "           3       0.00      0.00      0.00        11\n",
      "           4       0.00      0.00      0.00         5\n",
      "\n",
      "    accuracy                           0.28        94\n",
      "   macro avg       0.17      0.21      0.18        94\n",
      "weighted avg       0.26      0.28      0.26        94\n",
      "\n"
     ]
    },
    {
     "name": "stderr",
     "output_type": "stream",
     "text": [
      "C:\\Users\\Sammy\\Anaconda3\\lib\\site-packages\\sklearn\\metrics\\_classification.py:1245: UndefinedMetricWarning: Precision and F-score are ill-defined and being set to 0.0 in labels with no predicted samples. Use `zero_division` parameter to control this behavior.\n",
      "  _warn_prf(average, modifier, msg_start, len(result))\n",
      "C:\\Users\\Sammy\\Anaconda3\\lib\\site-packages\\sklearn\\metrics\\_classification.py:1245: UndefinedMetricWarning: Precision and F-score are ill-defined and being set to 0.0 in labels with no predicted samples. Use `zero_division` parameter to control this behavior.\n",
      "  _warn_prf(average, modifier, msg_start, len(result))\n",
      "C:\\Users\\Sammy\\Anaconda3\\lib\\site-packages\\sklearn\\metrics\\_classification.py:1245: UndefinedMetricWarning: Precision and F-score are ill-defined and being set to 0.0 in labels with no predicted samples. Use `zero_division` parameter to control this behavior.\n",
      "  _warn_prf(average, modifier, msg_start, len(result))\n"
     ]
    }
   ],
   "source": [
    "from sklearn.metrics import classification_report\n",
    "print(classification_report(test_labels,test_pred))"
   ]
  },
  {
   "cell_type": "code",
   "execution_count": 70,
   "metadata": {},
   "outputs": [
    {
     "data": {
      "image/png": "[encoded data removed]",
      "text/plain": [
       "<Figure size 864x360 with 2 Axes>"
      ]
     },
     "metadata": {},
     "output_type": "display_data"
    }
   ],
   "source": [
    "import matplotlib.pyplot as plt\n",
    "plot_history(train_history_lt)"
   ]
  },
  {
   "cell_type": "code",
   "execution_count": 71,
   "metadata": {},
   "outputs": [],
   "source": [
    "from tensorflow.keras.backend import clear_session\n",
    "clear_session()"
   ]
  },
  {
   "cell_type": "markdown",
   "metadata": {},
   "source": [
    "### BERT implementation with literature and tweets as training data"
   ]
  },
  {
   "cell_type": "code",
   "execution_count": null,
   "metadata": {},
   "outputs": [],
   "source": [
    "# merge tweets and covid data\n",
    "\n",
    "covid_data_copy = covid_data.copy()\n",
    "covid_data_copy.rename(columns = {'excerpt':'text'},inplace=True)\n",
    "\n",
    "combined_data = pd.concat([covid_data_copy,tweet_data],join=\"inner\")\n"
   ]
  },
  {
   "cell_type": "code",
   "execution_count": null,
   "metadata": {},
   "outputs": [],
   "source": [
    "text_train = combined_data['text']\n",
    "text_y_train = combined_data['label']"
   ]
  },
  {
   "cell_type": "code",
   "execution_count": null,
   "metadata": {},
   "outputs": [],
   "source": [
    "text_y_train = pd.factorize(combined_data)[0]"
   ]
  },
  {
   "cell_type": "code",
   "execution_count": null,
   "metadata": {},
   "outputs": [],
   "source": [
    "max_len = 500\n",
    "train_input = bert_encoder(text_train, tokenizer, max_len=max_len)\n",
    "test_input = bert_encoder(tweet_test, tokenizer, max_len=max_len)\n",
    "train_labels = tf.keras.utils.to_categorical(text_y_train, num_classes=5)\n",
    "test_labels = tf.keras.utils.to_categorical(tweet_y_test, num_classes=5)"
   ]
  },
  {
   "cell_type": "code",
   "execution_count": null,
   "metadata": {},
   "outputs": [],
   "source": [
    "model3 = build_bert_model(bert_layer, max_len=max_len)\n",
    "model3.summary()"
   ]
  },
  {
   "cell_type": "code",
   "execution_count": null,
   "metadata": {},
   "outputs": [],
   "source": [
    "checkpoint = tf.keras.callbacks.ModelCheckpoint('model.h5', monitor='val_accuracy', save_best_only=True, verbose=1)\n",
    "earlystopping = tf.keras.callbacks.EarlyStopping(monitor='val_accuracy', patience=5, verbose=1)\n",
    "\n",
    "train_history_cb = model3.fit(\n",
    "    train_input, train_labels, \n",
    "    validation_split=0.2,\n",
    "    epochs=5,\n",
    "    callbacks=[checkpoint, earlystopping],\n",
    "    batch_size=32,\n",
    "    verbose=1\n",
    ")"
   ]
  },
  {
   "cell_type": "code",
   "execution_count": null,
   "metadata": {},
   "outputs": [],
   "source": [
    "model3.load_weights('model.h5')\n",
    "test_pred = model2.predict(test_input)"
   ]
  },
  {
   "cell_type": "code",
   "execution_count": null,
   "metadata": {},
   "outputs": [],
   "source": [
    "# loss, accuracy = model2.evaluate(train_input, train_labels, verbose=1)\n",
    "# print(\"Training Accuracy: {:.4f}\".format(accuracy))\n",
    "loss, accuracy = model2.evaluate(test_input, test_pred, verbose=1)\n",
    "print(\"Testing Accuracy:  {:.4f}\".format(accuracy))"
   ]
  },
  {
   "cell_type": "code",
   "execution_count": null,
   "metadata": {},
   "outputs": [],
   "source": [
    "print(classification_report(test_labels,test_pred))"
   ]
  },
  {
   "cell_type": "code",
   "execution_count": null,
   "metadata": {},
   "outputs": [],
   "source": [
    "plot_history(train_history_cb)"
   ]
  }
 ],
 "metadata": {
  "kernelspec": {
   "display_name": "Python 3",
   "language": "python",
   "name": "python3"
  },
  "language_info": {
   "codemirror_mode": {
    "name": "ipython",
    "version": 3
   },
   "file_extension": ".py",
   "mimetype": "text/x-python",
   "name": "python",
   "nbconvert_exporter": "python",
   "pygments_lexer": "ipython3",
   "version": "3.6.5"
  }
 },
 "nbformat": 4,
 "nbformat_minor": 2
}
